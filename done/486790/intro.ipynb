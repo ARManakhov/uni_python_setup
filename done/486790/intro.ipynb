{
 "cells": [
  {
   "cell_type": "code",
   "metadata": {
    "collapsed": false,
    "jupyter": {
     "outputs_hidden": false
    },
    "ExecuteTime": {
     "end_time": "2024-05-15T19:33:18.022530Z",
     "start_time": "2024-05-15T19:33:17.740885Z"
    }
   },
   "source": [
    "# For tips on running notebooks in Google Colab, see\n",
    "# https://pytorch.org/tutorials/beginner/colab\n",
    "%matplotlib inline"
   ],
   "outputs": [],
   "execution_count": 12
  },
  {
   "cell_type": "markdown",
   "metadata": {},
   "source": [
    "MAC M1, torch turorial. Originated from https://pytorch.org/tutorials/beginner/basics/quickstart_tutorial.html"
   ]
  },
  {
   "cell_type": "code",
   "metadata": {
    "tags": [],
    "ExecuteTime": {
     "end_time": "2024-05-15T19:33:18.048697Z",
     "start_time": "2024-05-15T19:33:18.029582Z"
    }
   },
   "source": [
    "import torch\n",
    "from torch import nn\n",
    "from torch.utils.data import DataLoader\n",
    "from torchvision import datasets\n",
    "from torchvision.transforms import ToTensor"
   ],
   "outputs": [],
   "execution_count": 13
  },
  {
   "cell_type": "code",
   "metadata": {
    "tags": [],
    "ExecuteTime": {
     "end_time": "2024-05-15T19:33:18.243617Z",
     "start_time": "2024-05-15T19:33:18.056556Z"
    }
   },
   "source": [
    "# Download training data from open datasets.\n",
    "training_data = datasets.FashionMNIST(\n",
    "    root=\"data\",\n",
    "    train=True,\n",
    "    download=True,\n",
    "    transform=ToTensor(),\n",
    ")\n",
    "\n",
    "# Download test data from open datasets.\n",
    "test_data = datasets.FashionMNIST(\n",
    "    root=\"data\",\n",
    "    train=False,\n",
    "    download=True,\n",
    "    transform=ToTensor(),\n",
    ")\n"
   ],
   "outputs": [],
   "execution_count": 14
  },
  {
   "cell_type": "code",
   "metadata": {
    "tags": [],
    "ExecuteTime": {
     "end_time": "2024-05-15T19:33:18.342931Z",
     "start_time": "2024-05-15T19:33:18.245319Z"
    }
   },
   "source": [
    "batch_size = 64\n",
    "\n",
    "# Create data loaders.\n",
    "train_dataloader = DataLoader(training_data, batch_size=batch_size)\n",
    "test_dataloader = DataLoader(test_data, batch_size=batch_size)\n",
    "\n",
    "for X, y in test_dataloader:\n",
    "    print(f\"Shape of X [N, C, H, W]: {X.shape}\")\n",
    "    print(f\"Shape of y: {y.shape} {y.dtype}\")\n",
    "    break"
   ],
   "outputs": [
    {
     "name": "stdout",
     "output_type": "stream",
     "text": [
      "Shape of X [N, C, H, W]: torch.Size([64, 1, 28, 28])\n",
      "Shape of y: torch.Size([64]) torch.int64\n"
     ]
    }
   ],
   "execution_count": 15
  },
  {
   "cell_type": "markdown",
   "metadata": {},
   "source": [
    "# Modelling"
   ]
  },
  {
   "cell_type": "code",
   "metadata": {
    "tags": [],
    "ExecuteTime": {
     "end_time": "2024-05-15T19:33:18.421071Z",
     "start_time": "2024-05-15T19:33:18.343762Z"
    }
   },
   "source": [
    "# mps for Mac \n",
    "device = \"cuda\" if torch.cuda.is_available() else \"mps\" if torch.backends.mps.is_available() else \"cpu\"\n",
    "print(f\"Using {device} device\")\n",
    "\n",
    "\n",
    "# Define model\n",
    "class NeuralNetwork(nn.Module):\n",
    "    def __init__(self):\n",
    "        super().__init__()\n",
    "        self.flatten = nn.Flatten()\n",
    "        self.linear_relu_stack = nn.Sequential(\n",
    "            nn.Linear(28 * 28, 512),\n",
    "            nn.ReLU(),\n",
    "            nn.Linear(512, 512),\n",
    "            nn.ReLU(),\n",
    "            nn.Linear(512, 10)\n",
    "        )\n",
    "\n",
    "    def forward(self, x):\n",
    "        x = self.flatten(x)\n",
    "        logits = self.linear_relu_stack(x)\n",
    "        return logits\n",
    "\n",
    "\n",
    "model = NeuralNetwork().to(device)\n",
    "print(model)"
   ],
   "outputs": [
    {
     "name": "stdout",
     "output_type": "stream",
     "text": [
      "Using cuda device\n",
      "NeuralNetwork(\n",
      "  (flatten): Flatten(start_dim=1, end_dim=-1)\n",
      "  (linear_relu_stack): Sequential(\n",
      "    (0): Linear(in_features=784, out_features=512, bias=True)\n",
      "    (1): ReLU()\n",
      "    (2): Linear(in_features=512, out_features=512, bias=True)\n",
      "    (3): ReLU()\n",
      "    (4): Linear(in_features=512, out_features=10, bias=True)\n",
      "  )\n",
      ")\n"
     ]
    }
   ],
   "execution_count": 16
  },
  {
   "cell_type": "markdown",
   "metadata": {},
   "source": [
    "To train a model, we need a loss function and an optimizer."
   ]
  },
  {
   "cell_type": "code",
   "metadata": {
    "tags": [],
    "ExecuteTime": {
     "end_time": "2024-05-15T19:33:18.453712Z",
     "start_time": "2024-05-15T19:33:18.421842Z"
    }
   },
   "source": [
    "loss_fn = nn.CrossEntropyLoss()\n",
    "optimizer = torch.optim.SGD(model.parameters(), lr=1e-3)"
   ],
   "outputs": [],
   "execution_count": 17
  },
  {
   "cell_type": "markdown",
   "metadata": {},
   "source": [
    "In a single training loop, the model makes predictions on the training dataset (fed to it in batches), and backpropagates the prediction error to adjust the model’s parameters.\n",
    "\n"
   ]
  },
  {
   "cell_type": "code",
   "metadata": {
    "tags": [],
    "ExecuteTime": {
     "end_time": "2024-05-15T19:33:18.459055Z",
     "start_time": "2024-05-15T19:33:18.454635Z"
    }
   },
   "source": [
    "def train(dataloader, model, loss_fn, optimizer):\n",
    "    size = len(dataloader.dataset)\n",
    "    model.train()\n",
    "    for batch, (X, y) in enumerate(dataloader):\n",
    "        X, y = X.to(device), y.to(device)\n",
    "\n",
    "        # Compute prediction error\n",
    "        pred = model(X)\n",
    "        loss = loss_fn(pred, y)\n",
    "\n",
    "        # Backpropagation\n",
    "        optimizer.zero_grad()\n",
    "        loss.backward()\n",
    "        optimizer.step()\n",
    "\n",
    "        if batch % 100 == 0:\n",
    "            loss, current = loss.item(), (batch + 1) * len(X)\n",
    "            print(f\"loss: {loss:>7f}  [{current:>5d}/{size:>5d}]\")"
   ],
   "outputs": [],
   "execution_count": 18
  },
  {
   "cell_type": "code",
   "metadata": {
    "tags": [],
    "ExecuteTime": {
     "end_time": "2024-05-15T19:33:18.466226Z",
     "start_time": "2024-05-15T19:33:18.459873Z"
    }
   },
   "source": [
    "def test(dataloader, model, loss_fn):\n",
    "    size = len(dataloader.dataset)\n",
    "    num_batches = len(dataloader)\n",
    "    model.eval()\n",
    "    test_loss, correct = 0, 0\n",
    "    with torch.no_grad():\n",
    "        for X, y in dataloader:\n",
    "            X, y = X.to(device), y.to(device)\n",
    "            pred = model(X)\n",
    "            test_loss += loss_fn(pred, y).item()\n",
    "            correct += (pred.argmax(1) == y).type(torch.float).sum().item()\n",
    "    test_loss /= num_batches\n",
    "    correct /= size\n",
    "    print(f\"Error: \\n Accuracy: {(100 * correct):>0.1f}%, Avg loss: {test_loss:>8f} \\n\")\n",
    "    return test_loss, correct"
   ],
   "outputs": [],
   "execution_count": 19
  },
  {
   "cell_type": "code",
   "metadata": {
    "tags": [],
    "ExecuteTime": {
     "end_time": "2024-05-15T19:34:43.167590Z",
     "start_time": "2024-05-15T19:33:18.467309Z"
    }
   },
   "source": [
    "epochs = 10\n",
    "history = []\n",
    "for t in range(epochs):\n",
    "    print(f\"Epoch {t + 1}\\n-------------------------------\")\n",
    "    train(train_dataloader, model, loss_fn, optimizer)\n",
    "    test_accuracy = test(test_dataloader, model, loss_fn)\n",
    "    train_accuracy = test(train_dataloader, model, loss_fn)\n",
    "    history.append(test_accuracy + train_accuracy)\n",
    "print(\"Done!\")"
   ],
   "outputs": [
    {
     "name": "stdout",
     "output_type": "stream",
     "text": [
      "Epoch 1\n",
      "-------------------------------\n",
      "loss: 2.307526  [   64/60000]\n",
      "loss: 2.295039  [ 6464/60000]\n",
      "loss: 2.271211  [12864/60000]\n",
      "loss: 2.266528  [19264/60000]\n",
      "loss: 2.247787  [25664/60000]\n",
      "loss: 2.221691  [32064/60000]\n",
      "loss: 2.227292  [38464/60000]\n",
      "loss: 2.189569  [44864/60000]\n",
      "loss: 2.188275  [51264/60000]\n",
      "loss: 2.154033  [57664/60000]\n",
      "Test Error: \n",
      " Accuracy: 41.6%, Avg loss: 2.147641 \n",
      "\n",
      "Test Error: \n",
      " Accuracy: 42.2%, Avg loss: 2.146909 \n",
      "\n",
      "Epoch 2\n",
      "-------------------------------\n",
      "loss: 2.157764  [   64/60000]\n",
      "loss: 2.148431  [ 6464/60000]\n",
      "loss: 2.085751  [12864/60000]\n",
      "loss: 2.106699  [19264/60000]\n",
      "loss: 2.053784  [25664/60000]\n",
      "loss: 1.991323  [32064/60000]\n",
      "loss: 2.017994  [38464/60000]\n",
      "loss: 1.934854  [44864/60000]\n",
      "loss: 1.945502  [51264/60000]\n",
      "loss: 1.865372  [57664/60000]\n",
      "Test Error: \n",
      " Accuracy: 58.8%, Avg loss: 1.868036 \n",
      "\n",
      "Test Error: \n",
      " Accuracy: 59.4%, Avg loss: 1.865767 \n",
      "\n",
      "Epoch 3\n",
      "-------------------------------\n",
      "loss: 1.905435  [   64/60000]\n",
      "loss: 1.873114  [ 6464/60000]\n",
      "loss: 1.752343  [12864/60000]\n",
      "loss: 1.792619  [19264/60000]\n",
      "loss: 1.689095  [25664/60000]\n",
      "loss: 1.639568  [32064/60000]\n",
      "loss: 1.656395  [38464/60000]\n",
      "loss: 1.558442  [44864/60000]\n",
      "loss: 1.587974  [51264/60000]\n",
      "loss: 1.483216  [57664/60000]\n",
      "Test Error: \n",
      " Accuracy: 61.6%, Avg loss: 1.504773 \n",
      "\n",
      "Test Error: \n",
      " Accuracy: 62.4%, Avg loss: 1.500293 \n",
      "\n",
      "Epoch 4\n",
      "-------------------------------\n",
      "loss: 1.572708  [   64/60000]\n",
      "loss: 1.540263  [ 6464/60000]\n",
      "loss: 1.386949  [12864/60000]\n",
      "loss: 1.456815  [19264/60000]\n",
      "loss: 1.354149  [25664/60000]\n",
      "loss: 1.343372  [32064/60000]\n",
      "loss: 1.357526  [38464/60000]\n",
      "loss: 1.277223  [44864/60000]\n",
      "loss: 1.315509  [51264/60000]\n",
      "loss: 1.227560  [57664/60000]\n",
      "Test Error: \n",
      " Accuracy: 63.7%, Avg loss: 1.249083 \n",
      "\n",
      "Test Error: \n",
      " Accuracy: 64.7%, Avg loss: 1.242363 \n",
      "\n",
      "Epoch 5\n",
      "-------------------------------\n",
      "loss: 1.321165  [   64/60000]\n",
      "loss: 1.309667  [ 6464/60000]\n",
      "loss: 1.139125  [12864/60000]\n",
      "loss: 1.241717  [19264/60000]\n",
      "loss: 1.133983  [25664/60000]\n",
      "loss: 1.148207  [32064/60000]\n",
      "loss: 1.172637  [38464/60000]\n",
      "loss: 1.100617  [44864/60000]\n",
      "loss: 1.143923  [51264/60000]\n",
      "loss: 1.073143  [57664/60000]\n",
      "Test Error: \n",
      " Accuracy: 64.8%, Avg loss: 1.087978 \n",
      "\n",
      "Test Error: \n",
      " Accuracy: 65.9%, Avg loss: 1.079273 \n",
      "\n",
      "Epoch 6\n",
      "-------------------------------\n",
      "loss: 1.151817  [   64/60000]\n",
      "loss: 1.162545  [ 6464/60000]\n",
      "loss: 0.975311  [12864/60000]\n",
      "loss: 1.105095  [19264/60000]\n",
      "loss: 0.996623  [25664/60000]\n",
      "loss: 1.015304  [32064/60000]\n",
      "loss: 1.055642  [38464/60000]\n",
      "loss: 0.987512  [44864/60000]\n",
      "loss: 1.030808  [51264/60000]\n",
      "loss: 0.974018  [57664/60000]\n",
      "Test Error: \n",
      " Accuracy: 65.6%, Avg loss: 0.982900 \n",
      "\n",
      "Test Error: \n",
      " Accuracy: 67.1%, Avg loss: 0.972523 \n",
      "\n",
      "Epoch 7\n",
      "-------------------------------\n",
      "loss: 1.034007  [   64/60000]\n",
      "loss: 1.066400  [ 6464/60000]\n",
      "loss: 0.863340  [12864/60000]\n",
      "loss: 1.013007  [19264/60000]\n",
      "loss: 0.910319  [25664/60000]\n",
      "loss: 0.921822  [32064/60000]\n",
      "loss: 0.978506  [38464/60000]\n",
      "loss: 0.914772  [44864/60000]\n",
      "loss: 0.952967  [51264/60000]\n",
      "loss: 0.906995  [57664/60000]\n",
      "Test Error: \n",
      " Accuracy: 66.9%, Avg loss: 0.911223 \n",
      "\n",
      "Test Error: \n",
      " Accuracy: 68.2%, Avg loss: 0.899443 \n",
      "\n",
      "Epoch 8\n",
      "-------------------------------\n",
      "loss: 0.948318  [   64/60000]\n",
      "loss: 0.999313  [ 6464/60000]\n",
      "loss: 0.783604  [12864/60000]\n",
      "loss: 0.947697  [19264/60000]\n",
      "loss: 0.853201  [25664/60000]\n",
      "loss: 0.854222  [32064/60000]\n",
      "loss: 0.924575  [38464/60000]\n",
      "loss: 0.866822  [44864/60000]\n",
      "loss: 0.897774  [51264/60000]\n",
      "loss: 0.858808  [57664/60000]\n",
      "Test Error: \n",
      " Accuracy: 68.0%, Avg loss: 0.859811 \n",
      "\n",
      "Test Error: \n",
      " Accuracy: 69.3%, Avg loss: 0.846899 \n",
      "\n",
      "Epoch 9\n",
      "-------------------------------\n",
      "loss: 0.883514  [   64/60000]\n",
      "loss: 0.948874  [ 6464/60000]\n",
      "loss: 0.724353  [12864/60000]\n",
      "loss: 0.899375  [19264/60000]\n",
      "loss: 0.812686  [25664/60000]\n",
      "loss: 0.803881  [32064/60000]\n",
      "loss: 0.884218  [38464/60000]\n",
      "loss: 0.833985  [44864/60000]\n",
      "loss: 0.857251  [51264/60000]\n",
      "loss: 0.822088  [57664/60000]\n",
      "Test Error: \n",
      " Accuracy: 69.1%, Avg loss: 0.821041 \n",
      "\n",
      "Test Error: \n",
      " Accuracy: 70.5%, Avg loss: 0.807219 \n",
      "\n",
      "Epoch 10\n",
      "-------------------------------\n",
      "loss: 0.832488  [   64/60000]\n",
      "loss: 0.908383  [ 6464/60000]\n",
      "loss: 0.678500  [12864/60000]\n",
      "loss: 0.862271  [19264/60000]\n",
      "loss: 0.781975  [25664/60000]\n",
      "loss: 0.765386  [32064/60000]\n",
      "loss: 0.851996  [38464/60000]\n",
      "loss: 0.810226  [44864/60000]\n",
      "loss: 0.826089  [51264/60000]\n",
      "loss: 0.792577  [57664/60000]\n",
      "Test Error: \n",
      " Accuracy: 70.2%, Avg loss: 0.790315 \n",
      "\n",
      "Test Error: \n",
      " Accuracy: 71.6%, Avg loss: 0.775763 \n",
      "\n",
      "Done!\n"
     ]
    }
   ],
   "execution_count": 20
  },
  {
   "cell_type": "markdown",
   "metadata": {},
   "source": [
    "# Task 1\n",
    "Build graphic for the learning process. "
   ]
  },
  {
   "cell_type": "markdown",
   "metadata": {},
   "source": [
    "# Load/Save models"
   ]
  },
  {
   "cell_type": "code",
   "metadata": {
    "tags": [],
    "ExecuteTime": {
     "end_time": "2024-05-15T19:34:43.226569Z",
     "start_time": "2024-05-15T19:34:43.169183Z"
    }
   },
   "source": [
    "torch.save(model.state_dict(), \"model.pth\")\n",
    "print(\"Saved PyTorch Model State to model.pth\")\n",
    "\n",
    "model = NeuralNetwork()\n",
    "model.load_state_dict(torch.load(\"model.pth\"))"
   ],
   "outputs": [
    {
     "name": "stdout",
     "output_type": "stream",
     "text": [
      "Saved PyTorch Model State to model.pth\n"
     ]
    },
    {
     "data": {
      "text/plain": [
       "<All keys matched successfully>"
      ]
     },
     "execution_count": 21,
     "metadata": {},
     "output_type": "execute_result"
    }
   ],
   "execution_count": 21
  },
  {
   "cell_type": "code",
   "metadata": {
    "tags": [],
    "ExecuteTime": {
     "end_time": "2024-05-15T19:34:43.242496Z",
     "start_time": "2024-05-15T19:34:43.227390Z"
    }
   },
   "source": [
    "classes = [\n",
    "    \"T-shirt/top\",\n",
    "    \"Trouser\",\n",
    "    \"Pullover\",\n",
    "    \"Dress\",\n",
    "    \"Coat\",\n",
    "    \"Sandal\",\n",
    "    \"Shirt\",\n",
    "    \"Sneaker\",\n",
    "    \"Bag\",\n",
    "    \"Ankle boot\",\n",
    "]\n",
    "\n",
    "model.eval()\n",
    "x, y = test_data[0][0], test_data[0][1]\n",
    "with torch.no_grad():\n",
    "    pred = model(x)\n",
    "    predicted, actual = classes[pred[0].argmax(0)], classes[y]\n",
    "    print(f'Predicted: \"{predicted}\", Actual: \"{actual}\"')"
   ],
   "outputs": [
    {
     "name": "stdout",
     "output_type": "stream",
     "text": [
      "Predicted: \"Ankle boot\", Actual: \"Ankle boot\"\n"
     ]
    }
   ],
   "execution_count": 22
  },
  {
   "cell_type": "code",
   "metadata": {
    "ExecuteTime": {
     "end_time": "2024-05-15T19:39:11.775017Z",
     "start_time": "2024-05-15T19:39:10.161631Z"
    }
   },
   "source": [
    "import matplotlib.pyplot as plt\n",
    "\n",
    "history\n",
    "\n",
    "plt.figure(figsize=(8, 8))\n",
    "plt.subplot(2, 1, 1)\n",
    "plt.plot(list(map(lambda h: h[0], history)))\n",
    "plt.plot(list(map(lambda h: h[2], history)))\n",
    "plt.title('model loss')\n",
    "plt.ylabel('loss')\n",
    "plt.xlabel('epoch')\n",
    "plt.legend(['train', 'val'], loc='upper left')\n",
    "plt.subplot(2, 1, 2)\n",
    "plt.plot(list(map(lambda h: h[1] * 100, history)))\n",
    "plt.plot(list(map(lambda h: h[3] * 100, history)))\n",
    "plt.title('model accuracy (%)')\n",
    "plt.ylabel('accuracy')\n",
    "plt.xlabel('epoch')\n",
    "plt.legend(['train', 'val'], loc='upper left')\n",
    "plt.show()"
   ],
   "outputs": [
    {
     "data": {
      "text/plain": [
       "<Figure size 800x800 with 2 Axes>"
      ],
      "image/png": "[encoded data removed]"
     },
     "metadata": {},
     "output_type": "display_data"
    }
   ],
   "execution_count": 26
  }
 ],
 "metadata": {
  "kernelspec": {
   "display_name": "Python 3 (ipykernel)",
   "language": "python",
   "name": "python3"
  },
  "language_info": {
   "codemirror_mode": {
    "name": "ipython",
    "version": 3
   },
   "file_extension": ".py",
   "mimetype": "text/x-python",
   "name": "python",
   "nbconvert_exporter": "python",
   "pygments_lexer": "ipython3",
   "version": "3.8.16"
  }
 },
 "nbformat": 4,
 "nbformat_minor": 4
}
