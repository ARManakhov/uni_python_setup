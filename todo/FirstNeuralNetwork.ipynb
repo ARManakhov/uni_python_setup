{
 "cells": [
  {
   "cell_type": "code",
   "execution_count": 25,
   "id": "6b51e734-bde9-43fa-84de-fe405e6efaf8",
   "metadata": {
    "ExecuteTime": {
     "end_time": "2025-02-03T11:57:41.151363969Z",
     "start_time": "2025-02-03T11:57:41.064686406Z"
    }
   },
   "outputs": [],
   "source": [
    "import numpy as np\n",
    "from tqdm import tqdm_notebook as tqdm\n",
    "from sklearn.preprocessing import StandardScaler\n",
    "from sklearn.model_selection import train_test_split\n",
    "# Load the data\n",
    "from sklearn.datasets import load_breast_cancer\n",
    "import pandas as pd\n",
    "from tqdm import tqdm_notebook as tqdm"
   ]
  },
  {
   "cell_type": "code",
   "execution_count": 26,
   "id": "50a0c2f2-cebb-4a91-b596-0ac3e1285f84",
   "metadata": {
    "ExecuteTime": {
     "end_time": "2025-02-03T11:57:42.147785788Z",
     "start_time": "2025-02-03T11:57:41.105469151Z"
    }
   },
   "outputs": [
    {
     "name": "stdout",
     "output_type": "stream",
     "text": [
      "\u001B[31mMissing host/domain in URI 'https:'\r\n",
      "\u001B[m\u001B[31mFailed to parse URI 'https:'\r\n",
      "\u001B[m\u001B[31mFailed to parse URI '//'\r\n",
      "\u001B[mHSTS in effect for raw.githubusercontent.com:80\r\n",
      "\r\n",
      "\r\n",
      "\u001B7\u001B[1A\u001B[1G\u001B[27G[Files: 0  Bytes: 0  [0 B/s] Re]\u001B8\u001B7\u001B[2A\u001B[1G\u001B[27G[https://raw.githubusercontent.]\u001B8\u001B7\u001B[1S\u001B[3A\u001B[1G\u001B[0JSaving 'breast-cancer.csv.3'\r\n",
      "\u001B8\u001B7\u001B[2A\u001B[1Gbreast-cancer.csv.3  100% [=============================>]    1.64K    --.-KB/s\u001B8\u001B7\u001B[1S\u001B[3A\u001B[1G\u001B[0JHTTP response 200  [https://raw.githubusercontent.com/datasets/breast-cancer/master/data/breast-cancer.csv]\r\n",
      "\u001B8\u001B7\u001B[2A\u001B[1Gbreast-cancer.csv.3  100% [=============================>]    1.64K    --.-KB/s\u001B8\u001B7\u001B[1A\u001B[1G\u001B[27G[Files: 1  Bytes: 1.64K [1.85KB]\u001B8\u001B[m\u001B[m\u001B[m\u001B[m"
     ]
    }
   ],
   "source": [
    "!wget https: // raw.githubusercontent.com/datasets/breast-cancer/master/data/breast-cancer.csv"
   ]
  },
  {
   "cell_type": "code",
   "execution_count": 27,
   "id": "9595d084-43fe-44d4-b056-741407eaceb6",
   "metadata": {
    "ExecuteTime": {
     "end_time": "2025-02-03T11:57:42.444986398Z",
     "start_time": "2025-02-03T11:57:42.122332069Z"
    }
   },
   "outputs": [
    {
     "name": "stdout",
     "output_type": "stream",
     "text": [
      "usage: jupyter [-h] [--version] [--config-dir] [--data-dir] [--runtime-dir]\r\n",
      "               [--paths] [--json] [--debug]\r\n",
      "               [subcommand]\r\n",
      "\r\n",
      "Jupyter: Interactive Computing\r\n",
      "\r\n",
      "positional arguments:\r\n",
      "  subcommand     the subcommand to launch\r\n",
      "\r\n",
      "options:\r\n",
      "  -h, --help     show this help message and exit\r\n",
      "  --version      show the versions of core jupyter packages and exit\r\n",
      "  --config-dir   show Jupyter config dir\r\n",
      "  --data-dir     show Jupyter data dir\r\n",
      "  --runtime-dir  show Jupyter runtime dir\r\n",
      "  --paths        show all Jupyter paths. Add --json for machine-readable\r\n",
      "                 format.\r\n",
      "  --json         output paths as machine-readable json\r\n",
      "  --debug        output debug information about paths\r\n",
      "\r\n",
      "Available subcommands: console dejavu events execute kernel kernelspec lab\r\n",
      "labextension labhub migrate nbconvert notebook qtconsole run server\r\n",
      "troubleshoot trust\r\n",
      "\r\n",
      "Jupyter command `jupyter-nbextension` not found.\r\n"
     ]
    }
   ],
   "source": [
    "!jupyter nbextension enable --py widgetsnbextension"
   ]
  },
  {
   "cell_type": "code",
   "execution_count": 28,
   "id": "ec5ea7c0-95c7-4b14-95b1-aae6665af15f",
   "metadata": {
    "ExecuteTime": {
     "end_time": "2025-02-03T11:57:42.493738966Z",
     "start_time": "2025-02-03T11:57:42.447646218Z"
    }
   },
   "outputs": [],
   "source": [
    "data = load_breast_cancer()\n",
    "\n",
    "X = data.data[:, :-1]\n",
    "y = data.data[:, -1]\n",
    "y = y.reshape((-1, 1))\n"
   ]
  },
  {
   "cell_type": "code",
   "execution_count": 29,
   "id": "e02b387a-dbc1-4d9a-b1b9-c01f2fa4aad1",
   "metadata": {
    "ExecuteTime": {
     "end_time": "2025-02-03T11:57:42.494077135Z",
     "start_time": "2025-02-03T11:57:42.489301835Z"
    }
   },
   "outputs": [],
   "source": [
    "\n",
    "# Preprocess the data\n",
    "scaler = StandardScaler()\n",
    "X = scaler.fit_transform(X)\n",
    "X_train, X_test, y_train, y_test = train_test_split(X, y, test_size=0.2, random_state=42)\n"
   ]
  },
  {
   "cell_type": "markdown",
   "source": [
    "# Классы нейронки и слоев"
   ],
   "metadata": {
    "collapsed": false
   },
   "id": "345b5511a59d2c34"
  },
  {
   "cell_type": "code",
   "execution_count": 30,
   "id": "71e21553-13bc-414c-a3b8-44b8137362ef",
   "metadata": {
    "ExecuteTime": {
     "end_time": "2025-02-03T11:57:42.494259280Z",
     "start_time": "2025-02-03T11:57:42.489598798Z"
    }
   },
   "outputs": [],
   "source": [
    "\n",
    "def sigmoid(z):\n",
    "    return 1 / (1 + np.exp(-z))\n",
    "\n",
    "\n",
    "def sigmoid_prime(z):\n",
    "    return sigmoid(z) * (1 - sigmoid(z))\n",
    "\n",
    "def compute_cost(y_pred, y_true):\n",
    "    m = y_true.shape[0]\n",
    "    cost = -(1 / m) * np.sum(y_true * np.log(y_pred) + (1 - y_true) * np.log(1 - y_pred))\n",
    "    return cost\n",
    "\n",
    "\n",
    "class Layer:\n",
    "    def __init__(self, input_shape: int, output_shape: int):\n",
    "        self.weights = np.random.randn(input_shape, output_shape)\n",
    "        self.bias = np.zeros((1, output_shape))\n",
    "\n",
    "\n",
    "class NeuralNetwork:\n",
    "    def __init__(self, layers, activation):\n",
    "        self.layers = layers\n",
    "        self.activation = activation\n",
    "\n",
    "    def predict(self, X):\n",
    "        return self.forward(X)[-1]\n",
    "\n",
    "    def forward(self, X):\n",
    "        a_hist = [X]\n",
    "        for l in self.layers:\n",
    "            z = np.dot(a_hist[-1], l.weights) + l.bias\n",
    "            a = self.activation(z)\n",
    "            a_hist.append(a)\n",
    "        return a_hist\n",
    "\n",
    "    def backward(self, y_true, learning_rate, a_hist):\n",
    "        m = y_true.shape[0]\n",
    "        dz = a_hist[-1] - y_true\n",
    "        d_hist = []\n",
    "        prev = None\n",
    "        for l, a in zip(self.layers[::-1], a_hist[0:-1:-1]):\n",
    "            if prev:\n",
    "                lp, ap = prev \n",
    "                dz = np.dot(dz, lp.weights.T) * ap * (1 - ap)\n",
    "            dw = (1 / m) * np.dot(a.T, dz)\n",
    "            db = (1 / m) * np.sum(dz, axis=0, keepdims=True)\n",
    "            d_hist.append((dw, db))\n",
    "            prev = l, a\n",
    "\n",
    "        for l, (dw, db) in zip(self.layers[::-1], d_hist):\n",
    "            l.weights = l.weights - learning_rate * dw\n",
    "            l.bias = l.bias - learning_rate * db\n",
    "\n",
    "    def train(self, X, y_true, learning_rate, num_iterations):\n",
    "        for i in tqdm(range(num_iterations)):\n",
    "            a_hist = self.forward(X)\n",
    "            cost = compute_cost(a_hist[-1], y_true)\n",
    "            self.backward(y_true, learning_rate, a_hist)\n",
    "            if i % 1000 == 0:\n",
    "                print(f\"Cost after iteration {i}: {cost:.4f}\")\n"
   ]
  },
  {
   "cell_type": "code",
   "execution_count": 31,
   "id": "bb4beacf-8f26-4cf5-9c9a-118a711150cd",
   "metadata": {
    "ExecuteTime": {
     "end_time": "2025-02-03T11:57:45.295693413Z",
     "start_time": "2025-02-03T11:57:42.489891222Z"
    }
   },
   "outputs": [
    {
     "name": "stdout",
     "output_type": "stream",
     "text": [
      "(455, 29)\n",
      "(455, 1)\n"
     ]
    },
    {
     "name": "stderr",
     "output_type": "stream",
     "text": [
      "/tmp/ipykernel_24097/3211219221.py:55: TqdmDeprecationWarning: This function will be removed in tqdm==5.0.0\n",
      "Please use `tqdm.notebook.tqdm` instead of `tqdm.tqdm_notebook`\n",
      "  for i in tqdm(range(num_iterations)):\n"
     ]
    },
    {
     "data": {
      "text/plain": "  0%|          | 0/10000 [00:00<?, ?it/s]",
      "application/vnd.jupyter.widget-view+json": {
       "version_major": 2,
       "version_minor": 0,
       "model_id": "24b69597007e4e77b1bc3c6219e52ced"
      }
     },
     "metadata": {},
     "output_type": "display_data"
    },
    {
     "name": "stdout",
     "output_type": "stream",
     "text": [
      "Cost after iteration 0: 0.3782\n",
      "Cost after iteration 1000: 0.3782\n",
      "Cost after iteration 2000: 0.3782\n",
      "Cost after iteration 3000: 0.3782\n",
      "Cost after iteration 4000: 0.3782\n",
      "Cost after iteration 5000: 0.3782\n",
      "Cost after iteration 6000: 0.3782\n",
      "Cost after iteration 7000: 0.3782\n",
      "Cost after iteration 8000: 0.3782\n",
      "Cost after iteration 9000: 0.3782\n"
     ]
    }
   ],
   "source": [
    "nn = NeuralNetwork(\n",
    "    [\n",
    "        Layer(X_train.shape[1], 15),\n",
    "        Layer(15, 10),\n",
    "        Layer(10, 1)\n",
    "    ], sigmoid)\n",
    "print(X_train.shape)\n",
    "print(y_train.shape)\n",
    "nn.train(X_train, y_train, 0.1, 10000)"
   ]
  },
  {
   "cell_type": "code",
   "execution_count": 32,
   "id": "f8747b4e-d13d-41b9-88e7-962f84c9ba24",
   "metadata": {
    "ExecuteTime": {
     "end_time": "2025-02-03T11:57:45.351293250Z",
     "start_time": "2025-02-03T11:57:45.302283668Z"
    }
   },
   "outputs": [
    {
     "name": "stdout",
     "output_type": "stream",
     "text": [
      "[[0.24]\n",
      " [0.2 ]\n",
      " [0.27]\n",
      " [0.35]\n",
      " [0.32]\n",
      " [0.39]\n",
      " [0.26]\n",
      " [0.24]\n",
      " [0.35]\n",
      " [0.16]\n",
      " [0.1 ]\n",
      " [0.14]\n",
      " [0.1 ]\n",
      " [0.42]\n",
      " [0.17]\n",
      " [0.56]\n",
      " [0.18]\n",
      " [0.31]\n",
      " [0.36]\n",
      " [0.25]\n",
      " [0.3 ]\n",
      " [0.24]\n",
      " [0.36]\n",
      " [0.12]\n",
      " [0.09]\n",
      " [0.41]\n",
      " [0.17]\n",
      " [0.26]\n",
      " [0.11]\n",
      " [0.41]\n",
      " [0.2 ]\n",
      " [0.17]\n",
      " [0.48]\n",
      " [0.15]\n",
      " [0.24]\n",
      " [0.19]\n",
      " [0.09]\n",
      " [0.2 ]\n",
      " [0.11]\n",
      " [0.08]\n",
      " [0.23]\n",
      " [0.28]\n",
      " [0.17]\n",
      " [0.13]\n",
      " [0.47]\n",
      " [0.18]\n",
      " [0.37]\n",
      " [0.15]\n",
      " [0.11]\n",
      " [0.18]\n",
      " [0.08]\n",
      " [0.24]\n",
      " [0.32]\n",
      " [0.47]\n",
      " [0.39]\n",
      " [0.14]\n",
      " [0.4 ]\n",
      " [0.41]\n",
      " [0.25]\n",
      " [0.23]\n",
      " [0.1 ]\n",
      " [0.24]\n",
      " [0.26]\n",
      " [0.1 ]\n",
      " [0.11]\n",
      " [0.09]\n",
      " [0.38]\n",
      " [0.49]\n",
      " [0.16]\n",
      " [0.27]\n",
      " [0.46]\n",
      " [0.27]\n",
      " [0.1 ]\n",
      " [0.51]\n",
      " [0.34]\n",
      " [0.26]\n",
      " [0.13]\n",
      " [0.23]\n",
      " [0.14]\n",
      " [0.31]\n",
      " [0.21]\n",
      " [0.14]\n",
      " [0.21]\n",
      " [0.2 ]\n",
      " [0.09]\n",
      " [0.4 ]\n",
      " [0.4 ]\n",
      " [0.4 ]\n",
      " [0.28]\n",
      " [0.22]\n",
      " [0.14]\n",
      " [0.14]\n",
      " [0.33]\n",
      " [0.19]\n",
      " [0.23]\n",
      " [0.31]\n",
      " [0.22]\n",
      " [0.36]\n",
      " [0.22]\n",
      " [0.25]\n",
      " [0.07]\n",
      " [0.23]\n",
      " [0.34]\n",
      " [0.3 ]\n",
      " [0.11]\n",
      " [0.19]\n",
      " [0.37]\n",
      " [0.31]\n",
      " [0.18]\n",
      " [0.09]\n",
      " [0.15]\n",
      " [0.18]\n",
      " [0.42]\n",
      " [0.19]]\n",
      "[[0.09]\n",
      " [0.07]\n",
      " [0.08]\n",
      " [0.09]\n",
      " [0.08]\n",
      " [0.12]\n",
      " [0.09]\n",
      " [0.08]\n",
      " [0.1 ]\n",
      " [0.08]\n",
      " [0.07]\n",
      " [0.07]\n",
      " [0.06]\n",
      " [0.08]\n",
      " [0.08]\n",
      " [0.09]\n",
      " [0.06]\n",
      " [0.07]\n",
      " [0.09]\n",
      " [0.08]\n",
      " [0.1 ]\n",
      " [0.07]\n",
      " [0.1 ]\n",
      " [0.08]\n",
      " [0.07]\n",
      " [0.07]\n",
      " [0.07]\n",
      " [0.08]\n",
      " [0.07]\n",
      " [0.13]\n",
      " [0.08]\n",
      " [0.08]\n",
      " [0.08]\n",
      " [0.08]\n",
      " [0.09]\n",
      " [0.07]\n",
      " [0.08]\n",
      " [0.07]\n",
      " [0.08]\n",
      " [0.07]\n",
      " [0.08]\n",
      " [0.09]\n",
      " [0.07]\n",
      " [0.08]\n",
      " [0.06]\n",
      " [0.09]\n",
      " [0.09]\n",
      " [0.07]\n",
      " [0.09]\n",
      " [0.07]\n",
      " [0.08]\n",
      " [0.1 ]\n",
      " [0.11]\n",
      " [0.07]\n",
      " [0.1 ]\n",
      " [0.07]\n",
      " [0.1 ]\n",
      " [0.11]\n",
      " [0.11]\n",
      " [0.08]\n",
      " [0.08]\n",
      " [0.09]\n",
      " [0.07]\n",
      " [0.06]\n",
      " [0.07]\n",
      " [0.1 ]\n",
      " [0.13]\n",
      " [0.1 ]\n",
      " [0.07]\n",
      " [0.09]\n",
      " [0.09]\n",
      " [0.1 ]\n",
      " [0.07]\n",
      " [0.1 ]\n",
      " [0.1 ]\n",
      " [0.09]\n",
      " [0.08]\n",
      " [0.08]\n",
      " [0.07]\n",
      " [0.09]\n",
      " [0.08]\n",
      " [0.07]\n",
      " [0.07]\n",
      " [0.08]\n",
      " [0.08]\n",
      " [0.12]\n",
      " [0.21]\n",
      " [0.12]\n",
      " [0.09]\n",
      " [0.09]\n",
      " [0.08]\n",
      " [0.09]\n",
      " [0.09]\n",
      " [0.06]\n",
      " [0.07]\n",
      " [0.08]\n",
      " [0.07]\n",
      " [0.11]\n",
      " [0.07]\n",
      " [0.08]\n",
      " [0.09]\n",
      " [0.08]\n",
      " [0.11]\n",
      " [0.09]\n",
      " [0.08]\n",
      " [0.08]\n",
      " [0.09]\n",
      " [0.07]\n",
      " [0.08]\n",
      " [0.07]\n",
      " [0.06]\n",
      " [0.08]\n",
      " [0.08]\n",
      " [0.08]]\n",
      "Test accuracy: 0.008771929824561403\n"
     ]
    }
   ],
   "source": [
    "# Evaluate the neural network on the test set\n",
    "y_pred = nn.predict(X_test)\n",
    "\n",
    "y_pred_e = np.round(y_pred, 2)\n",
    "y_test_e = np.round(y_test, 2)\n",
    "print(y_pred_e)\n",
    "print(y_test_e)\n",
    "accuracy = np.mean(y_pred_e == y_test_e)\n",
    "print(f\"Test accuracy: {accuracy}\")"
   ]
  },
  {
   "cell_type": "code",
   "execution_count": 32,
   "id": "7fb28c48-0271-42f3-9fe4-34679428189f",
   "metadata": {
    "ExecuteTime": {
     "end_time": "2025-02-03T11:57:45.351533642Z",
     "start_time": "2025-02-03T11:57:45.344348273Z"
    }
   },
   "outputs": [],
   "source": []
  }
 ],
 "metadata": {
  "kernelspec": {
   "display_name": "Python 3 (ipykernel)",
   "language": "python",
   "name": "python3"
  },
  "language_info": {
   "codemirror_mode": {
    "name": "ipython",
    "version": 3
   },
   "file_extension": ".py",
   "mimetype": "text/x-python",
   "name": "python",
   "nbconvert_exporter": "python",
   "pygments_lexer": "ipython3",
   "version": "3.8.13"
  }
 },
 "nbformat": 4,
 "nbformat_minor": 5
}
