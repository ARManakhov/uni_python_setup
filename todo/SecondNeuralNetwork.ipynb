{
 "cells": [
  {
   "cell_type": "code",
   "execution_count": 58,
   "id": "6b51e734-bde9-43fa-84de-fe405e6efaf8",
   "metadata": {
    "ExecuteTime": {
     "end_time": "2025-02-03T11:54:33.965742846Z",
     "start_time": "2025-02-03T11:54:33.860353522Z"
    }
   },
   "outputs": [],
   "source": [
    "import numpy as np\n",
    "from tqdm import tqdm_notebook as tqdm\n",
    "from sklearn.preprocessing import StandardScaler\n",
    "from sklearn.model_selection import train_test_split\n",
    "# Load the data\n",
    "from keras.datasets import cifar10 # subroutines for fetching the CIFAR-10 dataset\n",
    "import pandas as pd\n",
    "from tqdm import tqdm_notebook as tqdm"
   ]
  },
  {
   "cell_type": "code",
   "execution_count": 59,
   "id": "9595d084-43fe-44d4-b056-741407eaceb6",
   "metadata": {
    "ExecuteTime": {
     "end_time": "2025-02-03T11:54:34.222563912Z",
     "start_time": "2025-02-03T11:54:33.875708258Z"
    }
   },
   "outputs": [
    {
     "name": "stdout",
     "output_type": "stream",
     "text": [
      "usage: jupyter [-h] [--version] [--config-dir] [--data-dir] [--runtime-dir]\r\n",
      "               [--paths] [--json] [--debug]\r\n",
      "               [subcommand]\r\n",
      "\r\n",
      "Jupyter: Interactive Computing\r\n",
      "\r\n",
      "positional arguments:\r\n",
      "  subcommand     the subcommand to launch\r\n",
      "\r\n",
      "options:\r\n",
      "  -h, --help     show this help message and exit\r\n",
      "  --version      show the versions of core jupyter packages and exit\r\n",
      "  --config-dir   show Jupyter config dir\r\n",
      "  --data-dir     show Jupyter data dir\r\n",
      "  --runtime-dir  show Jupyter runtime dir\r\n",
      "  --paths        show all Jupyter paths. Add --json for machine-readable\r\n",
      "                 format.\r\n",
      "  --json         output paths as machine-readable json\r\n",
      "  --debug        output debug information about paths\r\n",
      "\r\n",
      "Available subcommands: console dejavu events execute kernel kernelspec lab\r\n",
      "labextension labhub migrate nbconvert notebook qtconsole run server\r\n",
      "troubleshoot trust\r\n",
      "\r\n",
      "Jupyter command `jupyter-nbextension` not found.\r\n"
     ]
    }
   ],
   "source": [
    "!jupyter nbextension enable --py widgetsnbextension"
   ]
  },
  {
   "cell_type": "code",
   "execution_count": 60,
   "id": "ec5ea7c0-95c7-4b14-95b1-aae6665af15f",
   "metadata": {
    "ExecuteTime": {
     "end_time": "2025-02-03T11:54:35.043047527Z",
     "start_time": "2025-02-03T11:54:34.228260207Z"
    }
   },
   "outputs": [],
   "source": [
    "(X_train, y_train), (X_test, y_test) = cifar10.load_data()"
   ]
  },
  {
   "cell_type": "markdown",
   "source": [
    "# Классы нейронки и слоев"
   ],
   "metadata": {
    "collapsed": false
   },
   "id": "345b5511a59d2c34"
  },
  {
   "cell_type": "code",
   "execution_count": 61,
   "id": "71e21553-13bc-414c-a3b8-44b8137362ef",
   "metadata": {
    "ExecuteTime": {
     "end_time": "2025-02-03T11:54:35.060135436Z",
     "start_time": "2025-02-03T11:54:35.049737520Z"
    }
   },
   "outputs": [],
   "source": [
    "\n",
    "def sigmoid(z):\n",
    "    return 1 / (1 + np.exp(-z))\n",
    "\n",
    "\n",
    "def sigmoid_prime(z):\n",
    "    return sigmoid(z) * (1 - sigmoid(z))\n",
    "\n",
    "def compute_cost(y_pred, y_true):\n",
    "    m = y_true.shape[0]\n",
    "    cost = -(1 / m) * np.sum(y_true * np.log(y_pred) + (1 - y_true) * np.log(1 - y_pred))\n",
    "    return cost\n",
    "\n",
    "\n",
    "class Layer:\n",
    "    def __init__(self, input_shape: int, output_shape: int):\n",
    "        self.weights = np.random.randn(input_shape, output_shape)\n",
    "        self.bias = np.zeros((1, output_shape))\n",
    "\n",
    "\n",
    "class NeuralNetwork:\n",
    "    def __init__(self, layers, activation):\n",
    "        self.layers = layers\n",
    "        self.activation = activation\n",
    "\n",
    "    def predict(self, X):\n",
    "        return self.forward(X)[-1]\n",
    "\n",
    "    def forward(self, X):\n",
    "        a_hist = [X]\n",
    "        for l in self.layers:\n",
    "            z = np.dot(a_hist[-1], l.weights) + l.bias\n",
    "            a = self.activation(z)\n",
    "            a_hist.append(a)\n",
    "        return a_hist\n",
    "\n",
    "    def backward(self, y_true, learning_rate, a_hist):\n",
    "        m = y_true.shape[0]\n",
    "        dz = a_hist[-1] - y_true\n",
    "        d_hist = []\n",
    "        prev = None\n",
    "        for l, a in zip(self.layers[::-1], a_hist[0:-1:-1]):\n",
    "            if prev:\n",
    "                lp, ap = prev \n",
    "                dz = np.dot(dz, lp.weights.T) * ap * (1 - ap)\n",
    "            dw = (1 / m) * np.dot(a.T, dz)\n",
    "            db = (1 / m) * np.sum(dz, axis=0, keepdims=True)\n",
    "            d_hist.append((dw, db))\n",
    "            prev = l, a\n",
    "\n",
    "        for l, (dw, db) in zip(self.layers[::-1], d_hist):\n",
    "            l.weights = l.weights - learning_rate * dw\n",
    "            l.bias = l.bias - learning_rate * db\n",
    "\n",
    "    def train(self, X, y_true, learning_rate, num_iterations):\n",
    "        for i in tqdm(range(num_iterations)):\n",
    "            a_hist = self.forward(X)\n",
    "            cost = compute_cost(a_hist[-1], y_true)\n",
    "            self.backward(y_true, learning_rate, a_hist)\n",
    "            if i % 1000 == 0:\n",
    "                print(f\"Cost after iteration {i}: {cost:.4f}\")\n"
   ]
  },
  {
   "cell_type": "code",
   "execution_count": 62,
   "id": "bb4beacf-8f26-4cf5-9c9a-118a711150cd",
   "metadata": {
    "ExecuteTime": {
     "end_time": "2025-02-03T11:55:16.225082910Z",
     "start_time": "2025-02-03T11:54:35.062171718Z"
    }
   },
   "outputs": [
    {
     "name": "stdout",
     "output_type": "stream",
     "text": [
      "(50000, 3072)\n",
      "(50000, 1)\n"
     ]
    },
    {
     "name": "stderr",
     "output_type": "stream",
     "text": [
      "/tmp/ipykernel_21974/3211219221.py:55: TqdmDeprecationWarning: This function will be removed in tqdm==5.0.0\n",
      "Please use `tqdm.notebook.tqdm` instead of `tqdm.tqdm_notebook`\n",
      "  for i in tqdm(range(num_iterations)):\n"
     ]
    },
    {
     "data": {
      "text/plain": "  0%|          | 0/10 [00:00<?, ?it/s]",
      "application/vnd.jupyter.widget-view+json": {
       "version_major": 2,
       "version_minor": 0,
       "model_id": "5e8ee4ca249e48c2a4691f2cc080dc24"
      }
     },
     "metadata": {},
     "output_type": "display_data"
    },
    {
     "name": "stderr",
     "output_type": "stream",
     "text": [
      "/tmp/ipykernel_21974/3211219221.py:2: RuntimeWarning: overflow encountered in exp\n",
      "  return 1 / (1 + np.exp(-z))\n"
     ]
    },
    {
     "name": "stdout",
     "output_type": "stream",
     "text": [
      "Cost after iteration 0: 823.4112\n"
     ]
    }
   ],
   "source": [
    "X_train = X_train.reshape((X_train.shape[0], (X_train.size//X_train.shape[0])))\n",
    "print(X_train.shape)\n",
    "print(y_train.shape)\n",
    "nn = NeuralNetwork(\n",
    "    [\n",
    "        Layer(X_train.shape[1], 1000),\n",
    "        Layer(1000, 512),\n",
    "        Layer(512, 1)\n",
    "    ], sigmoid)\n",
    "nn.train(X_train, y_train, 0.001, 10)"
   ]
  },
  {
   "cell_type": "code",
   "execution_count": 63,
   "id": "f8747b4e-d13d-41b9-88e7-962f84c9ba24",
   "metadata": {
    "ExecuteTime": {
     "end_time": "2025-02-03T11:55:17.189538839Z",
     "start_time": "2025-02-03T11:55:16.229776989Z"
    }
   },
   "outputs": [
    {
     "name": "stderr",
     "output_type": "stream",
     "text": [
      "/tmp/ipykernel_21974/3211219221.py:2: RuntimeWarning: overflow encountered in exp\n",
      "  return 1 / (1 + np.exp(-z))\n"
     ]
    },
    {
     "name": "stdout",
     "output_type": "stream",
     "text": [
      "[[0.89]\n",
      " [0.98]\n",
      " [0.99]\n",
      " ...\n",
      " [1.  ]\n",
      " [0.02]\n",
      " [0.96]]\n",
      "[[3]\n",
      " [8]\n",
      " [8]\n",
      " ...\n",
      " [5]\n",
      " [1]\n",
      " [7]]\n",
      "Test accuracy: 0.0399\n"
     ]
    }
   ],
   "source": [
    "X_test = X_test.reshape((X_test.shape[0], (X_test.size//X_test.shape[0])))\n",
    "# Evaluate the neural network on the test set\n",
    "y_pred = nn.predict(X_test)\n",
    "\n",
    "y_pred_e = np.round(y_pred, 2)\n",
    "y_test_e = np.round(y_test, 2)\n",
    "print(y_pred_e)\n",
    "print(y_test_e)\n",
    "accuracy = np.mean(y_pred_e == y_test_e)\n",
    "print(f\"Test accuracy: {accuracy}\")"
   ]
  },
  {
   "cell_type": "code",
   "execution_count": 63,
   "id": "7fb28c48-0271-42f3-9fe4-34679428189f",
   "metadata": {
    "ExecuteTime": {
     "end_time": "2025-02-03T11:55:17.189989732Z",
     "start_time": "2025-02-03T11:55:17.171192746Z"
    }
   },
   "outputs": [],
   "source": []
  }
 ],
 "metadata": {
  "kernelspec": {
   "display_name": "Python 3 (ipykernel)",
   "language": "python",
   "name": "python3"
  },
  "language_info": {
   "codemirror_mode": {
    "name": "ipython",
    "version": 3
   },
   "file_extension": ".py",
   "mimetype": "text/x-python",
   "name": "python",
   "nbconvert_exporter": "python",
   "pygments_lexer": "ipython3",
   "version": "3.8.13"
  }
 },
 "nbformat": 4,
 "nbformat_minor": 5
}
