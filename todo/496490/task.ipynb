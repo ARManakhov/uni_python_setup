{
 "cells": [
  {
   "cell_type": "code",
   "execution_count": 1,
   "id": "8093c6cc",
   "metadata": {},
   "outputs": [],
   "source": [
    "import pandas as pd\n",
    "\n",
    "%matplotlib inline"
   ]
  },
  {
   "cell_type": "code",
   "execution_count": 36,
   "id": "afca5a4b",
   "metadata": {},
   "outputs": [],
   "source": [
    "df = pd.read_csv(\"data.csv\")"
   ]
  },
  {
   "cell_type": "code",
   "execution_count": 45,
   "id": "bb778764",
   "metadata": {},
   "outputs": [],
   "source": [
    "inputs = ['KS4_GPA5_Qtg.PV', 'KS4_GPA5_TC_T1.PV', 'KS4_GPA5_Nst.PV']\n",
    "outputs = ['KS4_GPA5_Nvd.PV', 'KS4_GPA5_Nnd.PV', 'KS4_GPA5_T4.PV', 'KS4_GPA5_Pk.PV']"
   ]
  },
  {
   "cell_type": "markdown",
   "id": "4736ff24",
   "metadata": {},
   "source": [
    "# Задача - построить предсказательую модель outputs по inputs\n",
    "- Дана телеметрия ГТУ. \n",
    "- Загрузить данные. \n",
    "- Проанализировать статистики, сделать EDA (разведовательный/исследовательский анализ данных). \n",
    "- Найти пропуски и выбросы в данных. \n",
    "- Заполнить пропуски линейной регрессией. С помощью таблицы корреляций найдите второй признак, который имеет сильную взаимосвязь с первым признаком. Создаете отдельный датафрейм из этих признаков, исключаете пропуски (не удаляете), обучаете линейну регрессию. Затем прогнозируете на исключенных данных с пропусками и заполняете эти пропуски предсказанным значением.\n",
    "- Сделать визуализации (гистограммы, боксплоты, диаграммы рассеивания). \n",
    "- Построить матрицу корреляций.\n",
    "- Обучить несколько моделей с подбором гиперпараметров. Можно классический ML и DL, ансамбли. В качестве метрики взять R^2&.\n",
    "- В качестве baseline использовать множественную регрессию. С ней вы будете сравнивать другие модели.\n",
    "\n",
    "**Результатом решения задачи является код эксперимента в Jupyter Notebook, содержащий качественное обоснование выбора той или иной архитектуры (метода). В качестве base line рекомендуется выбрать модель множественной регрессии.** \n",
    "\n",
    "В качестве шаблона EDA можете использовать EDA_AUTO.ipynb"
   ]
  },
  {
   "cell_type": "markdown",
   "id": "fe076aa0-a903-4721-a359-ca53d38116ab",
   "metadata": {},
   "source": []
  }
 ],
 "metadata": {
  "kernelspec": {
   "display_name": "Python 3 (ipykernel)",
   "language": "python",
   "name": "python3"
  },
  "language_info": {
   "codemirror_mode": {
    "name": "ipython",
    "version": 3
   },
   "file_extension": ".py",
   "mimetype": "text/x-python",
   "name": "python",
   "nbconvert_exporter": "python",
   "pygments_lexer": "ipython3",
   "version": "3.11.7"
  },
  "toc": {
   "base_numbering": 1,
   "nav_menu": {},
   "number_sections": true,
   "sideBar": true,
   "skip_h1_title": false,
   "title_cell": "Table of Contents",
   "title_sidebar": "Contents",
   "toc_cell": false,
   "toc_position": {},
   "toc_section_display": true,
   "toc_window_display": false
  }
 },
 "nbformat": 4,
 "nbformat_minor": 5
}
