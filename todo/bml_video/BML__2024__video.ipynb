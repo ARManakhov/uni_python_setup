{
 "cells": [
  {
   "metadata": {},
   "cell_type": "markdown",
   "source": [
    "1. Скачать видео:\n",
    "https://www.youtube.com/watch?v=NdSqAAT28v0"
   ],
   "id": "7b5838cc82d94a07"
  },
  {
   "cell_type": "code",
   "id": "initial_id",
   "metadata": {
    "collapsed": true,
    "ExecuteTime": {
     "end_time": "2024-06-05T04:27:38.783664Z",
     "start_time": "2024-06-05T04:26:52.475481Z"
    }
   },
   "source": [
    "import os\n",
    "!yt-dlp 'https://www.youtube.com/watch?v=NdSqAAT28v0' -o 'video.webm'"
   ],
   "outputs": [
    {
     "name": "stdout",
     "output_type": "stream",
     "text": [
      "[youtube] Extracting URL: https://www.youtube.com/watch?v=NdSqAAT28v0\r\n",
      "[youtube] NdSqAAT28v0: Downloading webpage\r\n",
      "[youtube] NdSqAAT28v0: Downloading ios player API JSON\r\n",
      "[youtube] NdSqAAT28v0: Downloading player 4b63a6a1\r\n",
      "[youtube] NdSqAAT28v0: Downloading m3u8 information\r\n",
      "[info] NdSqAAT28v0: Downloading 1 format(s): 244+251\r\n",
      "[download] Destination: Techno⧸Tech House Mix by DJ Haluk Arslan with Shadow Dancers [NdSqAAT28v0].f244.webm\r\n",
      "\u001B[K[download] 100% of  275.72MiB in \u001B[1;37m00:00:34\u001B[0m at \u001B[0;32m7.90MiB/s\u001B[0m0;33m00:00\u001B[0m0m\r\n",
      "[download] Destination: Techno⧸Tech House Mix by DJ Haluk Arslan with Shadow Dancers [NdSqAAT28v0].f251.webm\r\n",
      "\u001B[K[download] 100% of   74.04MiB in \u001B[1;37m00:00:07\u001B[0m at \u001B[0;32m9.59MiB/s\u001B[0m0;33m00:00\u001B[0m0m\r\n",
      "[Merger] Merging formats into \"Techno⧸Tech House Mix by DJ Haluk Arslan with Shadow Dancers [NdSqAAT28v0].webm\"\r\n",
      "Deleting original file Techno⧸Tech House Mix by DJ Haluk Arslan with Shadow Dancers [NdSqAAT28v0].f251.webm (pass -k to keep)\r\n",
      "Deleting original file Techno⧸Tech House Mix by DJ Haluk Arslan with Shadow Dancers [NdSqAAT28v0].f244.webm (pass -k to keep)\r\n"
     ]
    }
   ],
   "execution_count": 2
  },
  {
   "metadata": {},
   "cell_type": "markdown",
   "source": "2. Средствами библиотек Python извлечь из видео кадры (в оригинале извлекался каждый третий кадр).",
   "id": "4e4c361a8c1ebfc2"
  },
  {
   "metadata": {
    "ExecuteTime": {
     "end_time": "2024-06-05T05:02:51.445723Z",
     "start_time": "2024-06-05T05:02:51.237732Z"
    }
   },
   "cell_type": "code",
   "source": [
    "import cv2\n",
    "\n",
    "vidcap = cv2.VideoCapture('video.webm')"
   ],
   "id": "2c0f6f5aed1a6954",
   "outputs": [],
   "execution_count": 2
  },
  {
   "metadata": {
    "ExecuteTime": {
     "end_time": "2024-06-05T05:09:30.703731Z",
     "start_time": "2024-06-05T05:02:54.100974Z"
    }
   },
   "cell_type": "code",
   "source": [
    "import os\n",
    "\n",
    "os.makedirs('video_frames', exist_ok=True)\n",
    "\n",
    "frame_margin = 3\n",
    "\n",
    "success, image = vidcap.read()\n",
    "count = 1\n",
    "alt_count = 1\n",
    "while success:\n",
    "    if count % frame_margin == 0:\n",
    "        cv2.imwrite(os.path.join(\"video_frames\", f\"image_{alt_count}.jpg\"), image)\n",
    "        alt_count += 1\n",
    "    success, image = vidcap.read()\n",
    "    count += 1\n"
   ],
   "id": "2a56d9eb4e81b6f4",
   "outputs": [],
   "execution_count": 3
  },
  {
   "metadata": {},
   "cell_type": "markdown",
   "source": [
    "3. Средствами библиотек Python преобразовать разрешение кадров 1920x1080 -> 96x54 (можно другое соотношение).\n",
    "4. Средствами библиотек Python перевести в черно-белое изображение (белый фон, черная фигура)\n",
    "5. Обучить в Pytorch автоэнкодер (с помощью полносвязных слоев или, как в видео, сверточных) так, чтобы каждое изображение кодировалось вектором длины 128.\n",
    "6. Перевести все изображения в последовательность 128-мерных векторов.\n",
    "7. Обучить рекуррентную нейронную сеть (подобрать параметры самостоятельно) предсказывать по текущему следующий вектор.\n",
    "8. С помощью обученной сети сгенерировать последовательность векторов.\n",
    "9. Перевести с помощью декодера последовательность векторов в последовательность кадров.\n",
    "10. Средствами библиотек Python преобразовать кадры в видео."
   ],
   "id": "31ce91dd89f12c88"
  }
 ],
 "metadata": {
  "kernelspec": {
   "display_name": "Python 3",
   "language": "python",
   "name": "python3"
  },
  "language_info": {
   "codemirror_mode": {
    "name": "ipython",
    "version": 2
   },
   "file_extension": ".py",
   "mimetype": "text/x-python",
   "name": "python",
   "nbconvert_exporter": "python",
   "pygments_lexer": "ipython2",
   "version": "2.7.6"
  }
 },
 "nbformat": 4,
 "nbformat_minor": 5
}
