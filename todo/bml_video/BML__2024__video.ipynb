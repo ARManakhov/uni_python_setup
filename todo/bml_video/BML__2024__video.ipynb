{
 "cells": [
  {
   "cell_type": "markdown",
   "id": "7b5838cc82d94a07",
   "metadata": {},
   "source": [
    "1. Скачать видео:\n",
    "https://www.youtube.com/watch?v=NdSqAAT28v0"
   ]
  },
  {
   "cell_type": "code",
   "id": "initial_id",
   "metadata": {
    "collapsed": true,
    "jupyter": {
     "outputs_hidden": true,
     "is_executing": true
    }
   },
   "source": [
    "import os\n",
    "!yt-dlp 'https://www.youtube.com/watch?v=NdSqAAT28v0' -o 'video.webm'"
   ],
   "outputs": [],
   "execution_count": null
  },
  {
   "cell_type": "markdown",
   "id": "4e4c361a8c1ebfc2",
   "metadata": {},
   "source": [
    "2. Средствами библиотек Python извлечь из видео кадры (в оригинале извлекался каждый третий кадр)."
   ]
  },
  {
   "cell_type": "code",
   "id": "2c0f6f5aed1a6954",
   "metadata": {
    "ExecuteTime": {
     "end_time": "2024-06-05T14:44:45.564548Z",
     "start_time": "2024-06-05T14:44:45.561188Z"
    }
   },
   "source": [
    "import cv2\n",
    "\n",
    "vidcap = cv2.VideoCapture('video.webm')"
   ],
   "outputs": [],
   "execution_count": 74
  },
  {
   "cell_type": "code",
   "id": "2a56d9eb4e81b6f4",
   "metadata": {
    "ExecuteTime": {
     "end_time": "2024-06-05T14:51:51.179069Z",
     "start_time": "2024-06-05T14:44:45.591070Z"
    }
   },
   "source": [
    "import os\n",
    "\n",
    "os.makedirs('video_frames', exist_ok=True)\n",
    "\n",
    "frame_margin = 3\n",
    "\n",
    "success, image = vidcap.read()\n",
    "count = 1\n",
    "alt_count = 1\n",
    "while success:\n",
    "    if count % frame_margin == 0:\n",
    "        cv2.imwrite(os.path.join(\"video_frames\", f\"image_{alt_count}.png\"), image)\n",
    "        alt_count += 1\n",
    "    success, image = vidcap.read()\n",
    "    count += 1\n"
   ],
   "outputs": [],
   "execution_count": 75
  },
  {
   "cell_type": "markdown",
   "id": "da1fbb51ea14dfb8",
   "metadata": {},
   "source": [
    "3. Средствами библиотек Python преобразовать разрешение кадров 1920x1080 -> 96x54 (можно другое соотношение)."
   ]
  },
  {
   "cell_type": "code",
   "id": "c23359396f3f433f",
   "metadata": {
    "jupyter": {
     "is_executing": true
    }
   },
   "source": [
    "import cv2, os\n",
    "import numpy as np\n",
    "\n",
    "os.makedirs('video_frames_small', exist_ok=True)\n",
    "kernel = np.array([[0, -1, 0],\n",
    "                   [-1, 5, -1],\n",
    "                   [0, -1, 0]])\n",
    "for image_name in os.listdir('video_frames'):\n",
    "    image = cv2.imread(os.path.join('video_frames', image_name))\n",
    "    image = cv2.filter2D(image, kernel=kernel, ddepth=-5)\n",
    "    image = cv2.resize(image, (96, 54))\n",
    "    cv2.imwrite(os.path.join(\"video_frames_small\", image_name), image)"
   ],
   "outputs": [],
   "execution_count": null
  },
  {
   "cell_type": "markdown",
   "id": "2b8f7a63edf3145d",
   "metadata": {},
   "source": [
    "4. Средствами библиотек Python перевести в черно-белое изображение (белый фон, черная фигура)"
   ]
  },
  {
   "cell_type": "code",
   "id": "a9d04b94ef2dd600",
   "metadata": {
    "ExecuteTime": {
     "end_time": "2024-06-06T12:19:42.017560Z",
     "start_time": "2024-06-06T12:19:41.916024Z"
    }
   },
   "source": [
    "import cv2, os\n",
    "import numpy as np\n",
    "\n",
    "os.makedirs('video_frames_bw', exist_ok=True)\n",
    "for image_name in os.listdir('video_frames_small'):\n",
    "    image = cv2.imread(os.path.join('video_frames_small', image_name), 1)\n",
    "    tmp = cv2.cvtColor(image, cv2.COLOR_BGR2GRAY)\n",
    "    _, alpha = cv2.threshold(tmp, 5, 255, cv2.THRESH_BINARY)\n",
    "    image[alpha.astype(bool), :] = [255, 255, 255]\n",
    "    image[np.logical_not(alpha.astype(bool)), :] = [0, 0, 0]\n",
    "\n",
    "    cv2.imwrite(os.path.join(\"video_frames_bw\", image_name), image)"
   ],
   "outputs": [
    {
     "ename": "ModuleNotFoundError",
     "evalue": "No module named 'cv2'",
     "output_type": "error",
     "traceback": [
      "\u001B[0;31m---------------------------------------------------------------------------\u001B[0m",
      "\u001B[0;31mModuleNotFoundError\u001B[0m                       Traceback (most recent call last)",
      "Cell \u001B[0;32mIn[1], line 1\u001B[0m\n\u001B[0;32m----> 1\u001B[0m \u001B[38;5;28;01mimport\u001B[39;00m \u001B[38;5;21;01mcv2\u001B[39;00m\u001B[38;5;241m,\u001B[39m \u001B[38;5;21;01mos\u001B[39;00m\n\u001B[1;32m      2\u001B[0m \u001B[38;5;28;01mimport\u001B[39;00m \u001B[38;5;21;01mnumpy\u001B[39;00m \u001B[38;5;28;01mas\u001B[39;00m \u001B[38;5;21;01mnp\u001B[39;00m\n\u001B[1;32m      4\u001B[0m os\u001B[38;5;241m.\u001B[39mmakedirs(\u001B[38;5;124m'\u001B[39m\u001B[38;5;124mvideo_frames_bw\u001B[39m\u001B[38;5;124m'\u001B[39m, exist_ok\u001B[38;5;241m=\u001B[39m\u001B[38;5;28;01mTrue\u001B[39;00m)\n",
      "\u001B[0;31mModuleNotFoundError\u001B[0m: No module named 'cv2'"
     ]
    }
   ],
   "execution_count": 1
  },
  {
   "cell_type": "markdown",
   "id": "f7557954ccecd5e",
   "metadata": {},
   "source": [
    "5. Обучить в Pytorch автоэнкодер (с помощью полносвязных слоев или, как в видео, сверточных) так, чтобы каждое изображение кодировалось вектором длины 128."
   ]
  },
  {
   "cell_type": "code",
   "id": "e3342784f3ce2d59",
   "metadata": {
    "ExecuteTime": {
     "end_time": "2024-06-06T12:28:33.887094Z",
     "start_time": "2024-06-06T12:28:33.885095Z"
    }
   },
   "source": [
    "import matplotlib.pyplot as plt\n",
    "import cv2\n",
    "import numpy as np\n",
    "import os"
   ],
   "outputs": [],
   "execution_count": 3
  },
  {
   "cell_type": "code",
   "id": "f6c4fceaa6f36e54",
   "metadata": {
    "ExecuteTime": {
     "end_time": "2024-06-06T12:28:40.014214Z",
     "start_time": "2024-06-06T12:28:35.897833Z"
    }
   },
   "source": [
    "images = []\n",
    "for image_name in os.listdir(\"video_frames_bw\"):\n",
    "    image_full_path = os.path.join(\"video_frames_bw\", image_name)\n",
    "    image = cv2.imread(image_full_path)[:, :, 1]\n",
    "    images.append(image)\n",
    "images = np.array(images)"
   ],
   "outputs": [],
   "execution_count": 4
  },
  {
   "cell_type": "code",
   "id": "98260af0d7a2da6e",
   "metadata": {
    "ExecuteTime": {
     "end_time": "2024-06-06T12:28:44.124932Z",
     "start_time": "2024-06-06T12:28:42.681269Z"
    }
   },
   "source": [
    "from keras import layers\n",
    "from keras import models\n",
    "\n",
    "IMAGE_SHAPE = (54, 96)\n",
    "\n",
    "\n",
    "def build_autoencoder_parts(img_shape, code_size):\n",
    "    # The encoder\n",
    "    encoder = models.Sequential()\n",
    "    encoder.add(layers.InputLayer(img_shape))\n",
    "    encoder.add(layers.Flatten()),\n",
    "    encoder.add(layers.Dense(512, activation='relu'))\n",
    "    encoder.add(layers.Dense(code_size))\n",
    "\n",
    "    # The decoder\n",
    "    decoder = models.Sequential()\n",
    "    decoder.add(layers.InputLayer((code_size,)))\n",
    "    decoder.add(layers.Dense(512, activation='relu'))\n",
    "    decoder.add(layers.Dense(np.prod(img_shape)))\n",
    "    decoder.add(layers.Reshape(img_shape))\n",
    "\n",
    "    return encoder, decoder\n",
    "\n",
    "\n",
    "def build_auto_encoder(img_shape, encoder, decoder):\n",
    "    inp = layers.Input(img_shape)\n",
    "    code = encoder(inp)\n",
    "    reconstruction = decoder(code)\n",
    "\n",
    "    auto_encoder = models.Model(inp, reconstruction)\n",
    "    auto_encoder.compile(optimizer='adamax', loss='mse')\n",
    "    return auto_encoder\n",
    "\n",
    "\n",
    "encoder, decoder = build_autoencoder_parts(IMAGE_SHAPE, 128)\n",
    "auto_encoder = build_auto_encoder(IMAGE_SHAPE, encoder, decoder)"
   ],
   "outputs": [
    {
     "name": "stderr",
     "output_type": "stream",
     "text": [
      "2024-06-06 12:28:42.894209: I tensorflow/core/platform/cpu_feature_guard.cc:210] This TensorFlow binary is optimized to use available CPU instructions in performance-critical operations.\n",
      "To enable the following instructions: AVX2 FMA, in other operations, rebuild TensorFlow with the appropriate compiler flags.\n",
      "2024-06-06 12:28:43.975375: I external/local_xla/xla/stream_executor/cuda/cuda_executor.cc:998] successful NUMA node read from SysFS had negative value (-1), but there must be at least one NUMA node, so returning NUMA node zero. See more at https://github.com/torvalds/linux/blob/v6.0/Documentation/ABI/testing/sysfs-bus-pci#L344-L355\n",
      "2024-06-06 12:28:43.979769: I external/local_xla/xla/stream_executor/cuda/cuda_executor.cc:998] successful NUMA node read from SysFS had negative value (-1), but there must be at least one NUMA node, so returning NUMA node zero. See more at https://github.com/torvalds/linux/blob/v6.0/Documentation/ABI/testing/sysfs-bus-pci#L344-L355\n",
      "2024-06-06 12:28:43.979913: I external/local_xla/xla/stream_executor/cuda/cuda_executor.cc:998] successful NUMA node read from SysFS had negative value (-1), but there must be at least one NUMA node, so returning NUMA node zero. See more at https://github.com/torvalds/linux/blob/v6.0/Documentation/ABI/testing/sysfs-bus-pci#L344-L355\n",
      "2024-06-06 12:28:43.980744: I external/local_xla/xla/stream_executor/cuda/cuda_executor.cc:998] successful NUMA node read from SysFS had negative value (-1), but there must be at least one NUMA node, so returning NUMA node zero. See more at https://github.com/torvalds/linux/blob/v6.0/Documentation/ABI/testing/sysfs-bus-pci#L344-L355\n",
      "2024-06-06 12:28:43.980874: I external/local_xla/xla/stream_executor/cuda/cuda_executor.cc:998] successful NUMA node read from SysFS had negative value (-1), but there must be at least one NUMA node, so returning NUMA node zero. See more at https://github.com/torvalds/linux/blob/v6.0/Documentation/ABI/testing/sysfs-bus-pci#L344-L355\n",
      "2024-06-06 12:28:43.981001: I external/local_xla/xla/stream_executor/cuda/cuda_executor.cc:998] successful NUMA node read from SysFS had negative value (-1), but there must be at least one NUMA node, so returning NUMA node zero. See more at https://github.com/torvalds/linux/blob/v6.0/Documentation/ABI/testing/sysfs-bus-pci#L344-L355\n",
      "2024-06-06 12:28:44.041716: I external/local_xla/xla/stream_executor/cuda/cuda_executor.cc:998] successful NUMA node read from SysFS had negative value (-1), but there must be at least one NUMA node, so returning NUMA node zero. See more at https://github.com/torvalds/linux/blob/v6.0/Documentation/ABI/testing/sysfs-bus-pci#L344-L355\n",
      "2024-06-06 12:28:44.041860: I external/local_xla/xla/stream_executor/cuda/cuda_executor.cc:998] successful NUMA node read from SysFS had negative value (-1), but there must be at least one NUMA node, so returning NUMA node zero. See more at https://github.com/torvalds/linux/blob/v6.0/Documentation/ABI/testing/sysfs-bus-pci#L344-L355\n",
      "2024-06-06 12:28:44.041984: I external/local_xla/xla/stream_executor/cuda/cuda_executor.cc:998] successful NUMA node read from SysFS had negative value (-1), but there must be at least one NUMA node, so returning NUMA node zero. See more at https://github.com/torvalds/linux/blob/v6.0/Documentation/ABI/testing/sysfs-bus-pci#L344-L355\n",
      "2024-06-06 12:28:44.042300: I tensorflow/core/common_runtime/gpu/gpu_device.cc:1928] Created device /job:localhost/replica:0/task:0/device:GPU:0 with 9464 MB memory:  -> device: 0, name: NVIDIA GeForce RTX 4070 Ti, pci bus id: 0000:07:00.0, compute capability: 8.9\n"
     ]
    }
   ],
   "execution_count": 5
  },
  {
   "cell_type": "code",
   "id": "d4ea7afad0a0d64c",
   "metadata": {
    "ExecuteTime": {
     "end_time": "2024-06-06T12:29:26.072863Z",
     "start_time": "2024-06-06T12:28:48.937123Z"
    }
   },
   "source": "history = auto_encoder.fit(x=images, y=images, epochs=20)",
   "outputs": [
    {
     "name": "stdout",
     "output_type": "stream",
     "text": [
      "Epoch 1/20\n"
     ]
    },
    {
     "name": "stderr",
     "output_type": "stream",
     "text": [
      "WARNING: All log messages before absl::InitializeLog() is called are written to STDERR\n",
      "I0000 00:00:1717676929.801068      70 service.cc:145] XLA service 0x722ff0004370 initialized for platform CUDA (this does not guarantee that XLA will be used). Devices:\n",
      "I0000 00:00:1717676929.801098      70 service.cc:153]   StreamExecutor device (0): NVIDIA GeForce RTX 4070 Ti, Compute Capability 8.9\n",
      "2024-06-06 12:28:49.848884: I tensorflow/compiler/mlir/tensorflow/utils/dump_mlir_util.cc:268] disabling MLIR crash reproducer, set env var `MLIR_CRASH_REPRODUCER_DIRECTORY` to enable.\n",
      "2024-06-06 12:28:49.963606: I external/local_xla/xla/stream_executor/cuda/cuda_dnn.cc:465] Loaded cuDNN version 8906\n",
      "WARNING: All log messages before absl::InitializeLog() is called are written to STDERR\n",
      "I0000 00:00:1717676931.188716     112 asm_compiler.cc:369] ptxas warning : Registers are spilled to local memory in function 'triton_gemm_dot_336', 48 bytes spill stores, 48 bytes spill loads\n",
      "\n",
      "I0000 00:00:1717676931.600917     105 asm_compiler.cc:369] ptxas warning : Registers are spilled to local memory in function 'triton_gemm_dot_368', 4 bytes spill stores, 4 bytes spill loads\n",
      "\n",
      "I0000 00:00:1717676931.628296     115 asm_compiler.cc:369] ptxas warning : Registers are spilled to local memory in function 'triton_gemm_dot_336', 304 bytes spill stores, 304 bytes spill loads\n",
      "\n",
      "I0000 00:00:1717676931.677407     107 asm_compiler.cc:369] ptxas warning : Registers are spilled to local memory in function 'triton_gemm_dot_386', 32 bytes spill stores, 32 bytes spill loads\n",
      "\n",
      "I0000 00:00:1717676932.162354     110 asm_compiler.cc:369] ptxas warning : Registers are spilled to local memory in function 'triton_gemm_dot_386', 40 bytes spill stores, 40 bytes spill loads\n",
      "\n"
     ]
    },
    {
     "name": "stdout",
     "output_type": "stream",
     "text": [
      "\u001B[1m 152/1499\u001B[0m \u001B[32m━━\u001B[0m\u001B[37m━━━━━━━━━━━━━━━━━━\u001B[0m \u001B[1m1s\u001B[0m 1ms/step - loss: 10447.5605"
     ]
    },
    {
     "name": "stderr",
     "output_type": "stream",
     "text": [
      "I0000 00:00:1717676933.980005      70 device_compiler.h:188] Compiled cluster using XLA!  This line is logged at most once for the lifetime of the process.\n"
     ]
    },
    {
     "name": "stdout",
     "output_type": "stream",
     "text": [
      "\u001B[1m1454/1499\u001B[0m \u001B[32m━━━━━━━━━━━━━━━━━━━\u001B[0m\u001B[37m━\u001B[0m \u001B[1m0s\u001B[0m 975us/step - loss: 3738.3584"
     ]
    },
    {
     "name": "stderr",
     "output_type": "stream",
     "text": [
      "I0000 00:00:1717676937.569561     265 asm_compiler.cc:369] ptxas warning : Registers are spilled to local memory in function 'triton_gemm_dot_336', 64 bytes spill stores, 64 bytes spill loads\n",
      "\n"
     ]
    },
    {
     "name": "stdout",
     "output_type": "stream",
     "text": [
      "\u001B[1m1499/1499\u001B[0m \u001B[32m━━━━━━━━━━━━━━━━━━━━\u001B[0m\u001B[37m\u001B[0m \u001B[1m10s\u001B[0m 3ms/step - loss: 3695.0818\n",
      "Epoch 2/20\n",
      "\u001B[1m1499/1499\u001B[0m \u001B[32m━━━━━━━━━━━━━━━━━━━━\u001B[0m\u001B[37m\u001B[0m \u001B[1m1s\u001B[0m 951us/step - loss: 1541.0411\n",
      "Epoch 3/20\n",
      "\u001B[1m1499/1499\u001B[0m \u001B[32m━━━━━━━━━━━━━━━━━━━━\u001B[0m\u001B[37m\u001B[0m \u001B[1m1s\u001B[0m 954us/step - loss: 1287.5894\n",
      "Epoch 4/20\n",
      "\u001B[1m1499/1499\u001B[0m \u001B[32m━━━━━━━━━━━━━━━━━━━━\u001B[0m\u001B[37m\u001B[0m \u001B[1m1s\u001B[0m 918us/step - loss: 1181.1847\n",
      "Epoch 5/20\n",
      "\u001B[1m1499/1499\u001B[0m \u001B[32m━━━━━━━━━━━━━━━━━━━━\u001B[0m\u001B[37m\u001B[0m \u001B[1m1s\u001B[0m 935us/step - loss: 1120.2256\n",
      "Epoch 6/20\n",
      "\u001B[1m1499/1499\u001B[0m \u001B[32m━━━━━━━━━━━━━━━━━━━━\u001B[0m\u001B[37m\u001B[0m \u001B[1m1s\u001B[0m 928us/step - loss: 1079.9991\n",
      "Epoch 7/20\n",
      "\u001B[1m1499/1499\u001B[0m \u001B[32m━━━━━━━━━━━━━━━━━━━━\u001B[0m\u001B[37m\u001B[0m \u001B[1m1s\u001B[0m 909us/step - loss: 1046.2390\n",
      "Epoch 8/20\n",
      "\u001B[1m1499/1499\u001B[0m \u001B[32m━━━━━━━━━━━━━━━━━━━━\u001B[0m\u001B[37m\u001B[0m \u001B[1m1s\u001B[0m 914us/step - loss: 1016.9988\n",
      "Epoch 9/20\n",
      "\u001B[1m1499/1499\u001B[0m \u001B[32m━━━━━━━━━━━━━━━━━━━━\u001B[0m\u001B[37m\u001B[0m \u001B[1m1s\u001B[0m 911us/step - loss: 993.0342\n",
      "Epoch 10/20\n",
      "\u001B[1m1499/1499\u001B[0m \u001B[32m━━━━━━━━━━━━━━━━━━━━\u001B[0m\u001B[37m\u001B[0m \u001B[1m1s\u001B[0m 916us/step - loss: 973.8177\n",
      "Epoch 11/20\n",
      "\u001B[1m1499/1499\u001B[0m \u001B[32m━━━━━━━━━━━━━━━━━━━━\u001B[0m\u001B[37m\u001B[0m \u001B[1m1s\u001B[0m 938us/step - loss: 959.9858\n",
      "Epoch 12/20\n",
      "\u001B[1m1499/1499\u001B[0m \u001B[32m━━━━━━━━━━━━━━━━━━━━\u001B[0m\u001B[37m\u001B[0m \u001B[1m1s\u001B[0m 943us/step - loss: 947.5546\n",
      "Epoch 13/20\n",
      "\u001B[1m1499/1499\u001B[0m \u001B[32m━━━━━━━━━━━━━━━━━━━━\u001B[0m\u001B[37m\u001B[0m \u001B[1m1s\u001B[0m 956us/step - loss: 932.3957\n",
      "Epoch 14/20\n",
      "\u001B[1m1499/1499\u001B[0m \u001B[32m━━━━━━━━━━━━━━━━━━━━\u001B[0m\u001B[37m\u001B[0m \u001B[1m1s\u001B[0m 958us/step - loss: 921.7015\n",
      "Epoch 15/20\n",
      "\u001B[1m1499/1499\u001B[0m \u001B[32m━━━━━━━━━━━━━━━━━━━━\u001B[0m\u001B[37m\u001B[0m \u001B[1m2s\u001B[0m 1ms/step - loss: 912.5408\n",
      "Epoch 16/20\n",
      "\u001B[1m1499/1499\u001B[0m \u001B[32m━━━━━━━━━━━━━━━━━━━━\u001B[0m\u001B[37m\u001B[0m \u001B[1m1s\u001B[0m 991us/step - loss: 906.8290\n",
      "Epoch 17/20\n",
      "\u001B[1m1499/1499\u001B[0m \u001B[32m━━━━━━━━━━━━━━━━━━━━\u001B[0m\u001B[37m\u001B[0m \u001B[1m1s\u001B[0m 959us/step - loss: 897.6705\n",
      "Epoch 18/20\n",
      "\u001B[1m1499/1499\u001B[0m \u001B[32m━━━━━━━━━━━━━━━━━━━━\u001B[0m\u001B[37m\u001B[0m \u001B[1m1s\u001B[0m 949us/step - loss: 891.7615\n",
      "Epoch 19/20\n",
      "\u001B[1m1499/1499\u001B[0m \u001B[32m━━━━━━━━━━━━━━━━━━━━\u001B[0m\u001B[37m\u001B[0m \u001B[1m1s\u001B[0m 974us/step - loss: 887.7571\n",
      "Epoch 20/20\n",
      "\u001B[1m1499/1499\u001B[0m \u001B[32m━━━━━━━━━━━━━━━━━━━━\u001B[0m\u001B[37m\u001B[0m \u001B[1m1s\u001B[0m 954us/step - loss: 880.5597\n"
     ]
    }
   ],
   "execution_count": 6
  },
  {
   "metadata": {
    "ExecuteTime": {
     "end_time": "2024-06-06T12:29:32.313110Z",
     "start_time": "2024-06-06T12:29:32.218652Z"
    }
   },
   "cell_type": "code",
   "source": [
    "plt.plot(history.history['loss'])\n",
    "plt.title('model loss')\n",
    "plt.ylabel('loss')\n",
    "plt.xlabel('epoch')\n",
    "plt.legend(['train', 'test'], loc='upper left')\n",
    "plt.show()"
   ],
   "id": "81073f9b6e8ebb02",
   "outputs": [
    {
     "data": {
      "text/plain": [
       "<Figure size 640x480 with 1 Axes>"
      ],
      "image/png": "[encoded data removed]"
     },
     "metadata": {},
     "output_type": "display_data"
    }
   ],
   "execution_count": 7
  },
  {
   "cell_type": "code",
   "id": "3184bb20a79b8997",
   "metadata": {
    "ExecuteTime": {
     "end_time": "2024-06-06T12:29:55.276475Z",
     "start_time": "2024-06-06T12:29:55.131525Z"
    }
   },
   "source": [
    "import matplotlib.pyplot as plt\n",
    "\n",
    "test_image = cv2.imread('video_frames_bw/image_400.png')[:, :, 1]\n",
    "\n",
    "plt.subplot(2, 1, 1)\n",
    "plt.imshow(test_image, cmap=\"gray\")\n",
    "\n",
    "predicted = auto_encoder.predict(np.array([test_image]))\n",
    "\n",
    "plt.subplot(2, 1, 2)\n",
    "plt.imshow(predicted.reshape(54, 96), cmap=\"gray\")\n"
   ],
   "outputs": [
    {
     "name": "stdout",
     "output_type": "stream",
     "text": [
      "\u001B[1m1/1\u001B[0m \u001B[32m━━━━━━━━━━━━━━━━━━━━\u001B[0m\u001B[37m\u001B[0m \u001B[1m0s\u001B[0m 11ms/step\n"
     ]
    },
    {
     "data": {
      "text/plain": [
       "<matplotlib.image.AxesImage at 0x7230dc579890>"
      ]
     },
     "execution_count": 11,
     "metadata": {},
     "output_type": "execute_result"
    },
    {
     "data": {
      "text/plain": [
       "<Figure size 640x480 with 2 Axes>"
      ],
      "image/png": "[encoded data removed]"
     },
     "metadata": {},
     "output_type": "display_data"
    }
   ],
   "execution_count": 11
  },
  {
   "cell_type": "markdown",
   "id": "d637c9225998971e",
   "metadata": {},
   "source": "6. Перевести все изображения в последовательность 128-мерных векторов."
  },
  {
   "metadata": {
    "ExecuteTime": {
     "end_time": "2024-06-06T12:31:17.271199Z",
     "start_time": "2024-06-06T12:31:17.230029Z"
    }
   },
   "cell_type": "code",
   "source": [
    "predicted = encoder.predict(np.array([test_image]))\n",
    "predicted"
   ],
   "id": "b08cab44370575e2",
   "outputs": [
    {
     "name": "stdout",
     "output_type": "stream",
     "text": [
      "\u001B[1m1/1\u001B[0m \u001B[32m━━━━━━━━━━━━━━━━━━━━\u001B[0m\u001B[37m\u001B[0m \u001B[1m0s\u001B[0m 9ms/step\n"
     ]
    },
    {
     "data": {
      "text/plain": [
       "array([[ 3.00370045e+01, -3.02637543e+02,  5.68430908e+02,\n",
       "         2.17627090e+02,  2.59247925e+02,  8.27603683e+01,\n",
       "        -8.18368435e+00, -2.13026714e+01, -3.03905518e+02,\n",
       "         9.99993286e+01,  9.31635678e-01, -6.71603470e+01,\n",
       "         1.52344238e+02, -4.27110062e+01, -3.53004074e+01,\n",
       "         5.50800354e+02, -7.70242691e+01, -1.18603050e+02,\n",
       "        -6.11655083e+01, -8.81858215e+01, -5.58216133e+01,\n",
       "         2.80253265e+02,  1.18220810e+02, -2.58195312e+02,\n",
       "         1.72702957e+02,  1.41687384e+01,  3.57278625e+02,\n",
       "         2.36418442e+02,  3.06917816e+02,  1.46128555e+02,\n",
       "        -6.46560913e+02, -2.19568344e+02,  3.42281464e+02,\n",
       "        -3.61681915e+02, -6.93325806e+01, -3.79551010e+01,\n",
       "         6.82531509e+01,  2.83854389e+01, -3.08013363e+01,\n",
       "        -2.22778492e+01,  1.58753052e+02,  2.06982834e+02,\n",
       "         3.53973694e+02,  5.11559296e+02,  1.01454792e+01,\n",
       "        -4.44268188e+01,  3.19093384e+02, -1.39967285e+02,\n",
       "        -1.68561996e+02, -8.21748810e+01, -1.99890869e+02,\n",
       "         2.97783264e+02,  1.15868462e+02,  9.79563675e+01,\n",
       "         2.50246677e+01,  2.20370148e+02, -7.91855621e+01,\n",
       "        -4.14687805e+02,  4.11735420e+01, -7.60783844e+01,\n",
       "         4.76378403e+01,  2.19482994e+00,  1.58071594e+02,\n",
       "         7.60397522e+02,  6.36148415e+01, -2.83313995e+02,\n",
       "        -6.12065491e+02, -2.42443027e+01, -3.77389008e+02,\n",
       "        -6.78797722e+00,  9.25628738e+01, -2.15571564e+02,\n",
       "         7.58190384e+01, -6.72412777e+00, -1.43686783e+02,\n",
       "        -7.46848145e+01,  4.35564819e+02,  3.90124237e+02,\n",
       "         7.41615906e+01,  1.16463722e+02, -1.61491898e+02,\n",
       "         8.11692200e+01,  2.96251564e+01, -1.11802933e+02,\n",
       "        -4.03417419e+02,  1.77382446e+02,  2.01895142e+02,\n",
       "        -2.56798134e+01, -2.74628784e+02,  1.52000427e+02,\n",
       "         2.82777771e+02,  1.06913806e+03, -5.85875168e+01,\n",
       "         3.11613922e+02,  2.19180573e+02,  2.57082001e+02,\n",
       "         2.90761261e+01, -1.64878876e+02,  2.84590332e+02,\n",
       "        -1.25993584e+02, -2.23951912e+01,  4.63507843e+02,\n",
       "         1.73362564e+02,  4.92625084e+01, -4.33079132e+02,\n",
       "        -1.80685684e+02,  2.11303513e+02,  2.51378174e+02,\n",
       "         2.96472076e+02, -4.38913788e+02, -3.48957245e+02,\n",
       "         2.98811798e+02,  1.27438269e+03,  2.29596710e+02,\n",
       "         2.12173096e+02, -1.47498672e+02,  1.77087036e+02,\n",
       "         1.09521545e+02, -3.55273163e+02, -1.77398819e+02,\n",
       "        -1.13286049e+02, -4.61891632e+01, -9.50839767e+01,\n",
       "        -1.73904770e+02, -9.19374237e+01, -3.71475494e+02,\n",
       "        -6.06090164e+01, -2.38737808e+02]], dtype=float32)"
      ]
     },
     "execution_count": 12,
     "metadata": {},
     "output_type": "execute_result"
    }
   ],
   "execution_count": 12
  },
  {
   "metadata": {
    "ExecuteTime": {
     "end_time": "2024-06-06T12:31:20.948288Z",
     "start_time": "2024-06-06T12:31:19.096614Z"
    }
   },
   "cell_type": "code",
   "source": [
    "codes = encoder.predict(images)\n",
    "codes"
   ],
   "id": "f07826401efaa5e2",
   "outputs": [
    {
     "name": "stdout",
     "output_type": "stream",
     "text": [
      "\u001B[1m1499/1499\u001B[0m \u001B[32m━━━━━━━━━━━━━━━━━━━━\u001B[0m\u001B[37m\u001B[0m \u001B[1m1s\u001B[0m 608us/step\n"
     ]
    },
    {
     "data": {
      "text/plain": [
       "array([[ -46.608437 , -308.38754  ,   34.372997 , ..., -143.9593   ,\n",
       "         494.1913   , -864.2207   ],\n",
       "       [  70.28022  , -247.34381  ,  321.81494  , ..., -121.39295  ,\n",
       "         -59.037834 , -275.67603  ],\n",
       "       [ -75.059555 , -127.429146 ,  243.8108   , ..., -212.53127  ,\n",
       "         155.44696  , -142.4587   ],\n",
       "       ...,\n",
       "       [-127.35417  ,  -47.928688 ,  -82.20836  , ..., -147.19818  ,\n",
       "         -62.580498 ,   78.59956  ],\n",
       "       [ 166.01993  ,   -5.4857483,  654.38165  , ..., -123.08716  ,\n",
       "        -359.45578  , -240.96948  ],\n",
       "       [-296.17346  , -215.95201  ,  105.82631  , ...,   84.923065 ,\n",
       "          59.16535  ,  204.70267  ]], dtype=float32)"
      ]
     },
     "execution_count": 13,
     "metadata": {},
     "output_type": "execute_result"
    }
   ],
   "execution_count": 13
  },
  {
   "metadata": {
    "ExecuteTime": {
     "end_time": "2024-06-06T12:31:33.242198Z",
     "start_time": "2024-06-06T12:31:30.426770Z"
    }
   },
   "cell_type": "code",
   "source": "np.savetxt(\"codes.csv\", codes, delimiter=\",\")",
   "id": "bbd4557ac671a12f",
   "outputs": [],
   "execution_count": 15
  },
  {
   "metadata": {},
   "cell_type": "markdown",
   "source": "7. Обучить рекуррентную нейронную сеть (подобрать параметры самостоятельно) предсказывать по текущему следующий вектор.",
   "id": "301c7927a9f98551"
  },
  {
   "metadata": {
    "ExecuteTime": {
     "end_time": "2024-06-06T14:04:11.088968Z",
     "start_time": "2024-06-06T14:04:11.086061Z"
    }
   },
   "cell_type": "code",
   "source": [
    "import matplotlib.pyplot as plt\n",
    "import cv2\n",
    "import numpy as np\n",
    "import os"
   ],
   "id": "37ddbfcc02362365",
   "outputs": [],
   "execution_count": 156
  },
  {
   "metadata": {
    "ExecuteTime": {
     "end_time": "2024-06-06T14:04:17.028754Z",
     "start_time": "2024-06-06T14:04:11.116324Z"
    }
   },
   "cell_type": "code",
   "source": "codes = np.genfromtxt('codes.csv', delimiter=',')",
   "id": "998ac87e21d87b57",
   "outputs": [],
   "execution_count": 157
  },
  {
   "metadata": {
    "ExecuteTime": {
     "end_time": "2024-06-06T14:04:17.213253Z",
     "start_time": "2024-06-06T14:04:17.030514Z"
    }
   },
   "cell_type": "code",
   "source": [
    "from keras import layers\n",
    "from keras import models\n",
    "\n",
    "\n",
    "def create_RNN():\n",
    "    model = models.Sequential()\n",
    "    model.add(layers.InputLayer((128, 1)))\n",
    "    model.add(layers.SimpleRNN(128, activation='relu', return_sequences=True))\n",
    "    model.add(layers.SimpleRNN(256, activation='relu', return_sequences=True))\n",
    "    model.add(layers.SimpleRNN(128, activation='relu', return_sequences=True))\n",
    "    model.add(layers.Dense(units=1, activation='linear'))\n",
    "    model.compile(loss='mean_squared_error', optimizer='adam')\n",
    "    return model\n",
    "\n",
    "\n",
    "rnn_model = create_RNN()"
   ],
   "id": "5bf212405621e2a9",
   "outputs": [],
   "execution_count": 158
  },
  {
   "metadata": {
    "jupyter": {
     "is_executing": true
    },
    "ExecuteTime": {
     "start_time": "2024-06-06T14:04:17.214258Z"
    }
   },
   "cell_type": "code",
   "source": "history = rnn_model.fit(x=codes[1:], y=codes[:-1], epochs=50, batch_size=500)",
   "id": "6d563b2be3d717ad",
   "outputs": [
    {
     "name": "stdout",
     "output_type": "stream",
     "text": [
      "Epoch 1/50\n"
     ]
    },
    {
     "name": "stderr",
     "output_type": "stream",
     "text": [
      "I0000 00:00:1717682660.586218   51836 asm_compiler.cc:369] ptxas warning : Registers are spilled to local memory in function 'triton_gemm_dot_93', 16 bytes spill stores, 16 bytes spill loads\n",
      "\n",
      "I0000 00:00:1717682660.853548   51839 asm_compiler.cc:369] ptxas warning : Registers are spilled to local memory in function 'triton_gemm_dot_93', 24 bytes spill stores, 24 bytes spill loads\n",
      "\n",
      "I0000 00:00:1717682661.180259   51837 asm_compiler.cc:369] ptxas warning : Registers are spilled to local memory in function 'triton_gemm_dot_94', 176 bytes spill stores, 180 bytes spill loads\n",
      "\n",
      "I0000 00:00:1717682661.239651   51840 asm_compiler.cc:369] ptxas warning : Registers are spilled to local memory in function 'triton_gemm_dot_92', 176 bytes spill stores, 180 bytes spill loads\n",
      "\n",
      "I0000 00:00:1717682663.149555   51844 asm_compiler.cc:369] ptxas warning : Registers are spilled to local memory in function 'triton_gemm_dot_92', 8 bytes spill stores, 8 bytes spill loads\n",
      "\n",
      "I0000 00:00:1717682663.364184   51846 asm_compiler.cc:369] ptxas warning : Registers are spilled to local memory in function 'triton_gemm_dot_92', 100 bytes spill stores, 100 bytes spill loads\n",
      "\n"
     ]
    },
    {
     "name": "stdout",
     "output_type": "stream",
     "text": [
      "\u001B[1m95/96\u001B[0m \u001B[32m━━━━━━━━━━━━━━━━━━━\u001B[0m\u001B[37m━\u001B[0m \u001B[1m0s\u001B[0m 57ms/step - loss: 52132.6953"
     ]
    }
   ],
   "execution_count": null
  },
  {
   "metadata": {
    "jupyter": {
     "is_executing": true
    }
   },
   "cell_type": "code",
   "source": [
    "plt.plot(history.history['loss'])\n",
    "plt.title('model loss')\n",
    "plt.ylabel('loss')\n",
    "plt.xlabel('epoch')\n",
    "plt.legend(['train', 'test'], loc='upper left')\n",
    "plt.show()"
   ],
   "id": "1268c3cfc8b0862f",
   "outputs": [],
   "execution_count": null
  },
  {
   "metadata": {
    "jupyter": {
     "is_executing": true
    }
   },
   "cell_type": "code",
   "source": [
    "predicted = rnn_model.predict(np.array([codes[123]]))\n",
    "predicted.reshape(128)"
   ],
   "id": "f2ebaa481ee683e6",
   "outputs": [],
   "execution_count": null
  },
  {
   "metadata": {},
   "cell_type": "markdown",
   "source": "8. С помощью обученной сети сгенерировать последовательность векторов.",
   "id": "ffdbccd89ea76bbf"
  },
  {
   "metadata": {
    "jupyter": {
     "is_executing": true
    }
   },
   "cell_type": "code",
   "source": [
    "previous = codes[4312]  # just random code\n",
    "sequence = []\n",
    "for i in range(1000):\n",
    "    predicted = rnn_model.predict(np.array([previous]))\n",
    "    previous = predicted.reshape(128)\n",
    "    sequence.append(previous)"
   ],
   "id": "2760d42988406071",
   "outputs": [],
   "execution_count": null
  },
  {
   "metadata": {
    "jupyter": {
     "is_executing": true
    }
   },
   "cell_type": "code",
   "source": "np.savetxt(\"sequence.csv\", sequence, delimiter=\",\")",
   "id": "cb63199daba6d59f",
   "outputs": [],
   "execution_count": null
  },
  {
   "metadata": {},
   "cell_type": "markdown",
   "source": "9. Перевести с помощью декодера последовательность векторов в последовательность кадров.",
   "id": "6b42d962048af917"
  },
  {
   "metadata": {
    "jupyter": {
     "is_executing": true
    }
   },
   "cell_type": "code",
   "source": [
    "sequence = np.genfromtxt('sequence.csv', delimiter=',')\n",
    "\n",
    "generated_img = decoder.predict(sequence)"
   ],
   "id": "5de5f9774e29b80c",
   "outputs": [],
   "execution_count": null
  },
  {
   "metadata": {
    "jupyter": {
     "is_executing": true
    }
   },
   "cell_type": "code",
   "source": "plt.imshow(generated_img[100], cmap=\"gray\")",
   "id": "9a16bcf64dd01fa8",
   "outputs": [],
   "execution_count": null
  },
  {
   "metadata": {},
   "cell_type": "markdown",
   "source": "10. Средствами библиотек Python преобразовать кадры в видео.",
   "id": "31ce91dd89f12c88"
  },
  {
   "metadata": {
    "jupyter": {
     "is_executing": true
    }
   },
   "cell_type": "code",
   "source": "generated_img.shape",
   "id": "5b41af406bba180d",
   "outputs": [],
   "execution_count": null
  },
  {
   "cell_type": "code",
   "id": "eac4b035ed7c0684",
   "metadata": {
    "jupyter": {
     "is_executing": true
    }
   },
   "source": [
    "import cv2\n",
    "import numpy as np\n",
    "import glob\n",
    "\n",
    "frameSize = (96, 54)\n",
    "\n",
    "out = cv2.VideoWriter('output_video.avi',cv2.VideoWriter_fourcc(*'DIVX'), 10, frameSize)\n",
    "\n",
    "for img in generated_img:\n",
    "    img = np.dstack((img,img,img)).astype(np.uint8)\n",
    "    out.write(img)\n",
    "\n",
    "out.release()"
   ],
   "outputs": [],
   "execution_count": null
  }
 ],
 "metadata": {
  "kernelspec": {
   "display_name": "Python 3 (ipykernel)",
   "language": "python",
   "name": "python3"
  },
  "language_info": {
   "codemirror_mode": {
    "name": "ipython",
    "version": 3
   },
   "file_extension": ".py",
   "mimetype": "text/x-python",
   "name": "python",
   "nbconvert_exporter": "python",
   "pygments_lexer": "ipython3",
   "version": "3.12.3"
  }
 },
 "nbformat": 4,
 "nbformat_minor": 5
}
