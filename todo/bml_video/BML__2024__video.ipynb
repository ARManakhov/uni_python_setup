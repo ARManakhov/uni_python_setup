{
 "cells": [
  {
   "cell_type": "markdown",
   "id": "7b5838cc82d94a07",
   "metadata": {},
   "source": [
    "1. Скачать видео:\n",
    "https://www.youtube.com/watch?v=NdSqAAT28v0"
   ]
  },
  {
   "cell_type": "code",
   "execution_count": 2,
   "id": "initial_id",
   "metadata": {
    "ExecuteTime": {
     "end_time": "2024-06-05T04:27:38.783664Z",
     "start_time": "2024-06-05T04:26:52.475481Z"
    },
    "collapsed": true,
    "jupyter": {
     "outputs_hidden": true
    }
   },
   "outputs": [
    {
     "name": "stdout",
     "output_type": "stream",
     "text": [
      "[youtube] Extracting URL: https://www.youtube.com/watch?v=NdSqAAT28v0\r\n",
      "[youtube] NdSqAAT28v0: Downloading webpage\r\n",
      "[youtube] NdSqAAT28v0: Downloading ios player API JSON\r\n",
      "[youtube] NdSqAAT28v0: Downloading player 4b63a6a1\r\n",
      "[youtube] NdSqAAT28v0: Downloading m3u8 information\r\n",
      "[info] NdSqAAT28v0: Downloading 1 format(s): 244+251\r\n",
      "[download] Destination: Techno⧸Tech House Mix by DJ Haluk Arslan with Shadow Dancers [NdSqAAT28v0].f244.webm\r\n",
      "\u001B[K[download] 100% of  275.72MiB in \u001B[1;37m00:00:34\u001B[0m at \u001B[0;32m7.90MiB/s\u001B[0m0;33m00:00\u001B[0m0m\r\n",
      "[download] Destination: Techno⧸Tech House Mix by DJ Haluk Arslan with Shadow Dancers [NdSqAAT28v0].f251.webm\r\n",
      "\u001B[K[download] 100% of   74.04MiB in \u001B[1;37m00:00:07\u001B[0m at \u001B[0;32m9.59MiB/s\u001B[0m0;33m00:00\u001B[0m0m\r\n",
      "[Merger] Merging formats into \"Techno⧸Tech House Mix by DJ Haluk Arslan with Shadow Dancers [NdSqAAT28v0].webm\"\r\n",
      "Deleting original file Techno⧸Tech House Mix by DJ Haluk Arslan with Shadow Dancers [NdSqAAT28v0].f251.webm (pass -k to keep)\r\n",
      "Deleting original file Techno⧸Tech House Mix by DJ Haluk Arslan with Shadow Dancers [NdSqAAT28v0].f244.webm (pass -k to keep)\r\n"
     ]
    }
   ],
   "source": [
    "import os\n",
    "!yt-dlp 'https://www.youtube.com/watch?v=NdSqAAT28v0' -o 'video.webm'"
   ]
  },
  {
   "cell_type": "markdown",
   "id": "4e4c361a8c1ebfc2",
   "metadata": {},
   "source": [
    "2. Средствами библиотек Python извлечь из видео кадры (в оригинале извлекался каждый третий кадр)."
   ]
  },
  {
   "cell_type": "code",
   "id": "2c0f6f5aed1a6954",
   "metadata": {
    "ExecuteTime": {
     "end_time": "2024-06-05T14:44:45.564548Z",
     "start_time": "2024-06-05T14:44:45.561188Z"
    }
   },
   "source": [
    "import cv2\n",
    "\n",
    "vidcap = cv2.VideoCapture('video.webm')"
   ],
   "outputs": [],
   "execution_count": 74
  },
  {
   "cell_type": "code",
   "id": "2a56d9eb4e81b6f4",
   "metadata": {
    "ExecuteTime": {
     "end_time": "2024-06-05T14:51:51.179069Z",
     "start_time": "2024-06-05T14:44:45.591070Z"
    }
   },
   "source": [
    "import os\n",
    "\n",
    "os.makedirs('video_frames', exist_ok=True)\n",
    "\n",
    "frame_margin = 3\n",
    "\n",
    "success, image = vidcap.read()\n",
    "count = 1\n",
    "alt_count = 1\n",
    "while success:\n",
    "    if count % frame_margin == 0:\n",
    "        cv2.imwrite(os.path.join(\"video_frames\", f\"image_{alt_count}.png\"), image)\n",
    "        alt_count += 1\n",
    "    success, image = vidcap.read()\n",
    "    count += 1\n"
   ],
   "outputs": [],
   "execution_count": 75
  },
  {
   "cell_type": "markdown",
   "id": "da1fbb51ea14dfb8",
   "metadata": {},
   "source": [
    "3. Средствами библиотек Python преобразовать разрешение кадров 1920x1080 -> 96x54 (можно другое соотношение)."
   ]
  },
  {
   "cell_type": "code",
   "id": "c23359396f3f433f",
   "metadata": {
    "ExecuteTime": {
     "end_time": "2024-06-05T15:48:27.334872Z",
     "start_time": "2024-06-05T15:43:50.225573Z"
    }
   },
   "source": [
    "import cv2, os\n",
    "import numpy as np\n",
    "\n",
    "os.makedirs('video_frames_small', exist_ok=True)\n",
    "kernel = np.array([[0, -1, 0],\n",
    "                   [-1, 5, -1],\n",
    "                   [0, -1, 0]])\n",
    "for image_name in os.listdir('video_frames'):\n",
    "    image = cv2.imread(os.path.join('video_frames', image_name))\n",
    "    image = cv2.filter2D(image, kernel=kernel, ddepth=-5)\n",
    "    image = cv2.resize(image, (96, 54))\n",
    "    cv2.imwrite(os.path.join(\"video_frames_small\", image_name), image)"
   ],
   "outputs": [],
   "execution_count": 3
  },
  {
   "cell_type": "markdown",
   "id": "2b8f7a63edf3145d",
   "metadata": {},
   "source": [
    "4. Средствами библиотек Python перевести в черно-белое изображение (белый фон, черная фигура)"
   ]
  },
  {
   "cell_type": "code",
   "id": "a9d04b94ef2dd600",
   "metadata": {
    "ExecuteTime": {
     "end_time": "2024-06-05T15:54:42.773003Z",
     "start_time": "2024-06-05T15:54:26.872010Z"
    }
   },
   "source": [
    "import cv2, os\n",
    "import matplotlib.pyplot as plt\n",
    "import numpy as np\n",
    "\n",
    "os.makedirs('video_frames_bw', exist_ok=True)\n",
    "for image_name in os.listdir('video_frames_small'):\n",
    "    image = cv2.imread(os.path.join('video_frames_small', image_name), 1)\n",
    "    tmp = cv2.cvtColor(image, cv2.COLOR_BGR2GRAY)\n",
    "    _, alpha = cv2.threshold(tmp, 5, 255, cv2.THRESH_BINARY)\n",
    "    image[alpha.astype(bool), :] = [255, 255, 255]\n",
    "    image[np.logical_not(alpha.astype(bool)), :] = [0, 0, 0]\n",
    "\n",
    "    cv2.imwrite(os.path.join(\"video_frames_bw\", image_name), image)"
   ],
   "outputs": [],
   "execution_count": 13
  },
  {
   "cell_type": "markdown",
   "id": "f7557954ccecd5e",
   "metadata": {},
   "source": [
    "5. Обучить в Pytorch автоэнкодер (с помощью полносвязных слоев или, как в видео, сверточных) так, чтобы каждое изображение кодировалось вектором длины 128."
   ]
  },
  {
   "cell_type": "code",
   "id": "e3342784f3ce2d59",
   "metadata": {
    "ExecuteTime": {
     "end_time": "2024-06-06T09:24:20.358155Z",
     "start_time": "2024-06-06T09:24:20.048023Z"
    }
   },
   "source": [
    "import matplotlib.pyplot as plt\n",
    "import cv2\n",
    "import numpy as np\n",
    "import os"
   ],
   "outputs": [],
   "execution_count": 1
  },
  {
   "cell_type": "code",
   "id": "f6c4fceaa6f36e54",
   "metadata": {
    "ExecuteTime": {
     "end_time": "2024-06-06T09:24:29.737516Z",
     "start_time": "2024-06-06T09:24:26.513511Z"
    }
   },
   "source": [
    "images = []\n",
    "for image_name in os.listdir(\"video_frames_bw\"):\n",
    "    image_full_path = os.path.join(\"video_frames_bw\", image_name)\n",
    "    image = cv2.imread(image_full_path)[:, :, 1]\n",
    "    images.append(image)\n",
    "images = np.array(images)"
   ],
   "outputs": [],
   "execution_count": 3
  },
  {
   "cell_type": "code",
   "id": "98260af0d7a2da6e",
   "metadata": {
    "ExecuteTime": {
     "end_time": "2024-06-06T09:24:34.499747Z",
     "start_time": "2024-06-06T09:24:34.464396Z"
    }
   },
   "source": [
    "from keras import layers\n",
    "from keras import models\n",
    "\n",
    "IMAGE_SHAPE = (54, 96)\n",
    "\n",
    "\n",
    "def build_autoencoder_parts(img_shape, code_size):\n",
    "    # The encoder\n",
    "    encoder = models.Sequential()\n",
    "    encoder.add(layers.InputLayer(img_shape))\n",
    "    encoder.add(layers.Flatten())\n",
    "    encoder.add(layers.Dense(code_size))\n",
    "\n",
    "    # The decoder\n",
    "    decoder = models.Sequential()\n",
    "    decoder.add(layers.InputLayer((code_size,)))\n",
    "    decoder.add(layers.Dense(np.prod(img_shape)))\n",
    "    decoder.add(layers.Reshape(img_shape))\n",
    "\n",
    "    return encoder, decoder\n",
    "\n",
    "\n",
    "def build_auto_encoder(img_shape, encoder, decoder):\n",
    "    inp = layers.Input(img_shape)\n",
    "    code = encoder(inp)\n",
    "    reconstruction = decoder(code)\n",
    "\n",
    "    auto_encoder = models.Model(inp, reconstruction)\n",
    "    auto_encoder.compile(optimizer='adamax', loss='mse')\n",
    "    return auto_encoder\n",
    "\n",
    "\n",
    "encoder, decoder = build_autoencoder_parts(IMAGE_SHAPE, 128)\n",
    "auto_encoder = build_auto_encoder(IMAGE_SHAPE, encoder, decoder)"
   ],
   "outputs": [
    {
     "name": "stderr",
     "output_type": "stream",
     "text": [
      "2024-06-06 12:24:34.470309: I external/local_xla/xla/stream_executor/cuda/cuda_executor.cc:998] successful NUMA node read from SysFS had negative value (-1), but there must be at least one NUMA node, so returning NUMA node zero. See more at https://github.com/torvalds/linux/blob/v6.0/Documentation/ABI/testing/sysfs-bus-pci#L344-L355\n",
      "2024-06-06 12:24:34.470476: W tensorflow/core/common_runtime/gpu/gpu_device.cc:2251] Cannot dlopen some GPU libraries. Please make sure the missing libraries mentioned above are installed properly if you would like to use GPU. Follow the guide at https://www.tensorflow.org/install/gpu for how to download and setup the required libraries for your platform.\n",
      "Skipping registering GPU devices...\n"
     ]
    }
   ],
   "execution_count": 4
  },
  {
   "cell_type": "code",
   "id": "d4ea7afad0a0d64c",
   "metadata": {
    "ExecuteTime": {
     "end_time": "2024-06-06T09:26:55.480132Z",
     "start_time": "2024-06-06T09:24:40.805922Z"
    }
   },
   "source": "history = auto_encoder.fit(x=images, y=images, epochs=20)",
   "outputs": [
    {
     "name": "stdout",
     "output_type": "stream",
     "text": [
      "Epoch 1/20\n"
     ]
    },
    {
     "name": "stderr",
     "output_type": "stream",
     "text": [
      "2024-06-06 12:24:40.849988: W external/local_tsl/tsl/framework/cpu_allocator_impl.cc:83] Allocation of 248572800 exceeds 10% of free system memory.\n",
      "2024-06-06 12:24:40.949675: W external/local_tsl/tsl/framework/cpu_allocator_impl.cc:83] Allocation of 248572800 exceeds 10% of free system memory.\n"
     ]
    },
    {
     "name": "stdout",
     "output_type": "stream",
     "text": [
      "\u001B[1m1499/1499\u001B[0m \u001B[32m━━━━━━━━━━━━━━━━━━━━\u001B[0m\u001B[37m\u001B[0m \u001B[1m6s\u001B[0m 4ms/step - loss: 5299.7070\n",
      "Epoch 2/20\n",
      "\u001B[1m1499/1499\u001B[0m \u001B[32m━━━━━━━━━━━━━━━━━━━━\u001B[0m\u001B[37m\u001B[0m \u001B[1m6s\u001B[0m 4ms/step - loss: 1868.7562\n",
      "Epoch 3/20\n",
      "\u001B[1m1499/1499\u001B[0m \u001B[32m━━━━━━━━━━━━━━━━━━━━\u001B[0m\u001B[37m\u001B[0m \u001B[1m6s\u001B[0m 4ms/step - loss: 1289.5433\n",
      "Epoch 4/20\n",
      "\u001B[1m1499/1499\u001B[0m \u001B[32m━━━━━━━━━━━━━━━━━━━━\u001B[0m\u001B[37m\u001B[0m \u001B[1m6s\u001B[0m 4ms/step - loss: 1015.1537\n",
      "Epoch 5/20\n",
      "\u001B[1m1499/1499\u001B[0m \u001B[32m━━━━━━━━━━━━━━━━━━━━\u001B[0m\u001B[37m\u001B[0m \u001B[1m11s\u001B[0m 7ms/step - loss: 948.8638\n",
      "Epoch 6/20\n",
      "\u001B[1m1499/1499\u001B[0m \u001B[32m━━━━━━━━━━━━━━━━━━━━\u001B[0m\u001B[37m\u001B[0m \u001B[1m7s\u001B[0m 5ms/step - loss: 914.3496\n",
      "Epoch 7/20\n",
      "\u001B[1m1499/1499\u001B[0m \u001B[32m━━━━━━━━━━━━━━━━━━━━\u001B[0m\u001B[37m\u001B[0m \u001B[1m6s\u001B[0m 4ms/step - loss: 893.6959\n",
      "Epoch 8/20\n",
      "\u001B[1m1499/1499\u001B[0m \u001B[32m━━━━━━━━━━━━━━━━━━━━\u001B[0m\u001B[37m\u001B[0m \u001B[1m6s\u001B[0m 4ms/step - loss: 883.5325\n",
      "Epoch 9/20\n",
      "\u001B[1m1499/1499\u001B[0m \u001B[32m━━━━━━━━━━━━━━━━━━━━\u001B[0m\u001B[37m\u001B[0m \u001B[1m6s\u001B[0m 4ms/step - loss: 875.0076\n",
      "Epoch 10/20\n",
      "\u001B[1m1499/1499\u001B[0m \u001B[32m━━━━━━━━━━━━━━━━━━━━\u001B[0m\u001B[37m\u001B[0m \u001B[1m7s\u001B[0m 5ms/step - loss: 869.9454\n",
      "Epoch 11/20\n",
      "\u001B[1m1499/1499\u001B[0m \u001B[32m━━━━━━━━━━━━━━━━━━━━\u001B[0m\u001B[37m\u001B[0m \u001B[1m6s\u001B[0m 4ms/step - loss: 864.3588\n",
      "Epoch 12/20\n",
      "\u001B[1m1499/1499\u001B[0m \u001B[32m━━━━━━━━━━━━━━━━━━━━\u001B[0m\u001B[37m\u001B[0m \u001B[1m6s\u001B[0m 4ms/step - loss: 864.0752\n",
      "Epoch 13/20\n",
      "\u001B[1m1499/1499\u001B[0m \u001B[32m━━━━━━━━━━━━━━━━━━━━\u001B[0m\u001B[37m\u001B[0m \u001B[1m6s\u001B[0m 4ms/step - loss: 860.6637\n",
      "Epoch 14/20\n",
      "\u001B[1m1499/1499\u001B[0m \u001B[32m━━━━━━━━━━━━━━━━━━━━\u001B[0m\u001B[37m\u001B[0m \u001B[1m6s\u001B[0m 4ms/step - loss: 856.2514\n",
      "Epoch 15/20\n",
      "\u001B[1m1499/1499\u001B[0m \u001B[32m━━━━━━━━━━━━━━━━━━━━\u001B[0m\u001B[37m\u001B[0m \u001B[1m6s\u001B[0m 4ms/step - loss: 857.3978\n",
      "Epoch 16/20\n",
      "\u001B[1m1499/1499\u001B[0m \u001B[32m━━━━━━━━━━━━━━━━━━━━\u001B[0m\u001B[37m\u001B[0m \u001B[1m6s\u001B[0m 4ms/step - loss: 851.9460\n",
      "Epoch 17/20\n",
      "\u001B[1m1499/1499\u001B[0m \u001B[32m━━━━━━━━━━━━━━━━━━━━\u001B[0m\u001B[37m\u001B[0m \u001B[1m8s\u001B[0m 5ms/step - loss: 854.6663\n",
      "Epoch 18/20\n",
      "\u001B[1m1499/1499\u001B[0m \u001B[32m━━━━━━━━━━━━━━━━━━━━\u001B[0m\u001B[37m\u001B[0m \u001B[1m6s\u001B[0m 4ms/step - loss: 853.4924\n",
      "Epoch 19/20\n",
      "\u001B[1m1499/1499\u001B[0m \u001B[32m━━━━━━━━━━━━━━━━━━━━\u001B[0m\u001B[37m\u001B[0m \u001B[1m7s\u001B[0m 4ms/step - loss: 848.8618\n",
      "Epoch 20/20\n",
      "\u001B[1m1499/1499\u001B[0m \u001B[32m━━━━━━━━━━━━━━━━━━━━\u001B[0m\u001B[37m\u001B[0m \u001B[1m7s\u001B[0m 5ms/step - loss: 848.5698\n"
     ]
    }
   ],
   "execution_count": 5
  },
  {
   "metadata": {
    "ExecuteTime": {
     "end_time": "2024-06-06T09:28:28.194351Z",
     "start_time": "2024-06-06T09:28:28.109100Z"
    }
   },
   "cell_type": "code",
   "source": [
    "plt.plot(history.history['loss'])\n",
    "plt.title('model loss')\n",
    "plt.ylabel('loss')\n",
    "plt.xlabel('epoch')\n",
    "plt.legend(['train', 'test'], loc='upper left')\n",
    "plt.show()"
   ],
   "id": "81073f9b6e8ebb02",
   "outputs": [
    {
     "data": {
      "text/plain": [
       "<Figure size 640x480 with 1 Axes>"
      ],
      "image/png": "[encoded data removed]"
     },
     "metadata": {},
     "output_type": "display_data"
    }
   ],
   "execution_count": 7
  },
  {
   "cell_type": "code",
   "id": "3184bb20a79b8997",
   "metadata": {
    "ExecuteTime": {
     "end_time": "2024-06-06T09:30:42.054997Z",
     "start_time": "2024-06-06T09:30:41.926175Z"
    }
   },
   "source": [
    "import matplotlib.pyplot as plt\n",
    "\n",
    "test_image = cv2.imread('video_frames_bw/image_10.png')[:, :, 1]\n",
    "\n",
    "plt.subplot(2, 1, 1)\n",
    "plt.imshow(test_image)\n",
    "\n",
    "predicted = auto_encoder.predict(np.array([test_image]))\n",
    "\n",
    "plt.subplot(2, 1, 2)\n",
    "plt.imshow(predicted.reshape(54, 96), cmap=\"gray\")\n"
   ],
   "outputs": [
    {
     "name": "stdout",
     "output_type": "stream",
     "text": [
      "\u001B[1m1/1\u001B[0m \u001B[32m━━━━━━━━━━━━━━━━━━━━\u001B[0m\u001B[37m\u001B[0m \u001B[1m0s\u001B[0m 9ms/step\n"
     ]
    },
    {
     "data": {
      "text/plain": [
       "<matplotlib.image.AxesImage at 0x7a641c4fd580>"
      ]
     },
     "execution_count": 13,
     "metadata": {},
     "output_type": "execute_result"
    },
    {
     "data": {
      "text/plain": [
       "<Figure size 640x480 with 2 Axes>"
      ],
      "image/png": "[encoded data removed]"
     },
     "metadata": {},
     "output_type": "display_data"
    }
   ],
   "execution_count": 13
  },
  {
   "metadata": {
    "ExecuteTime": {
     "end_time": "2024-06-05T18:26:44.364409Z",
     "start_time": "2024-06-05T18:26:44.361009Z"
    }
   },
   "cell_type": "code",
   "source": [
    "image = cv2.imread('video_frames_bw/image_12.png', cv2.COLOR_BGR2GRAY)\n",
    "image = np.array(image[:, :, 1])\n",
    "transform = transforms.Compose([transforms.ToTensor(), transforms.Normalize((0.5,), (0.5,))])\n",
    "transform(image)\n",
    "print(image)"
   ],
   "id": "2bfeb4abc74f7444",
   "outputs": [
    {
     "name": "stdout",
     "output_type": "stream",
     "text": [
      "[[255 255 255 ... 255 255 255]\n",
      " [255 255 255 ... 255 255 255]\n",
      " [255 255 255 ... 255 255 255]\n",
      " ...\n",
      " [255 255 255 ... 255 255 255]\n",
      " [255 255 255 ... 255 255 255]\n",
      " [255 255 255 ... 255   0   0]]\n"
     ]
    }
   ],
   "execution_count": 468
  },
  {
   "cell_type": "markdown",
   "id": "31ce91dd89f12c88",
   "metadata": {},
   "source": [
    "6. Перевести все изображения в последовательность 128-мерных векторов.\n",
    "7. Обучить рекуррентную нейронную сеть (подобрать параметры самостоятельно) предсказывать по текущему следующий вектор.\n",
    "8. С помощью обученной сети сгенерировать последовательность векторов.\n",
    "9. Перевести с помощью декодера последовательность векторов в последовательность кадров.\n",
    "10. Средствами библиотек Python преобразовать кадры в видео."
   ]
  },
  {
   "cell_type": "code",
   "id": "eac4b035ed7c0684",
   "metadata": {
    "ExecuteTime": {
     "end_time": "2024-06-05T18:26:44.366872Z",
     "start_time": "2024-06-05T18:26:44.365293Z"
    }
   },
   "source": [],
   "outputs": [],
   "execution_count": 468
  }
 ],
 "metadata": {
  "kernelspec": {
   "display_name": "Python 3 (ipykernel)",
   "language": "python",
   "name": "python3"
  },
  "language_info": {
   "codemirror_mode": {
    "name": "ipython",
    "version": 3
   },
   "file_extension": ".py",
   "mimetype": "text/x-python",
   "name": "python",
   "nbconvert_exporter": "python",
   "pygments_lexer": "ipython3",
   "version": "3.12.3"
  }
 },
 "nbformat": 4,
 "nbformat_minor": 5
}
