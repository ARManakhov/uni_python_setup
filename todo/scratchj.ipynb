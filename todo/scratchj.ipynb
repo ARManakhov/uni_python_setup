{
 "cells": [
  {
   "cell_type": "code",
   "execution_count": 27,
   "id": "initial_id",
   "metadata": {
    "collapsed": true,
    "ExecuteTime": {
     "end_time": "2025-01-28T20:25:47.354073674Z",
     "start_time": "2025-01-28T20:25:47.138418736Z"
    }
   },
   "outputs": [
    {
     "name": "stderr",
     "output_type": "stream",
     "text": [
      "<>:8: SyntaxWarning: invalid escape sequence '\\d'\n",
      "<>:9: SyntaxWarning: invalid escape sequence '\\d'\n",
      "<>:10: SyntaxWarning: invalid escape sequence '\\w'\n",
      "<>:8: SyntaxWarning: invalid escape sequence '\\d'\n",
      "<>:9: SyntaxWarning: invalid escape sequence '\\d'\n",
      "<>:10: SyntaxWarning: invalid escape sequence '\\w'\n",
      "/tmp/ipykernel_100074/2850975147.py:8: SyntaxWarning: invalid escape sequence '\\d'\n",
      "  text = ' '.join(re.sub(\"(\\d+)\", \"@int \", text).split())\n",
      "/tmp/ipykernel_100074/2850975147.py:9: SyntaxWarning: invalid escape sequence '\\d'\n",
      "  text = ' '.join(re.sub(\"((\\d\\.,)+)\", \"@float \", text).split())\n",
      "/tmp/ipykernel_100074/2850975147.py:10: SyntaxWarning: invalid escape sequence '\\w'\n",
      "  text = ' '.join(re.sub(\"([^0-9A-Za-zА-яёЁ@ \\t])|(\\w+:\\/\\/\\S+)\",\" \", text).split())\n"
     ]
    },
    {
     "data": {
      "text/plain": "                                                  tweet  \\\n0     Настало время для ингаляторов Дружок Сальбутам...   \n1     @int На прошлой зимней олимпиаде большинство л...   \n2     Не соглашусь с заменой ЗОК на метопролол в так...   \n3     @username мезим Смекта Если отравление то лопе...   \n4     Уберите микроволновки и имодиум Действуют соул...   \n...                                                 ...   \n9510  Поставка лекарственных препаратов МНН Формотер...   \n9511             единственная радость моей жизни прозак   \n9512  @username @int Героин класс A @int Кокаин клас...   \n9513  @int лет девочки разноцветные витаминки @int л...   \n9514  если желание бесконечно пихать в себя пищу пре...   \n\n                                                   from  \n0     Настало время для ингаляторов. Дружок, Сальбут...  \n1     15) На прошлой зимней олимпиаде большинство лы...  \n2     Не соглашусь с заменой ЗОК на метопролол в так...  \n3     @di2m1 мезим Смекта Если отравление, то лоперамид  \n4     Уберите микроволновки и имодиум  Действуют соу...  \n...                                                 ...  \n9510  Поставка лекарственных препаратов (МНН: Формот...  \n9511             единственная радость моей жизни прозак  \n9512  @anatoliisharii 1. Героин(класс A) 2. Кокаин(к...  \n9513  16 лет: девочки разноцветные витаминки  25 лет...  \n9514  если желание бесконечно пихать в себя пищу пре...  \n\n[9515 rows x 2 columns]",
      "text/html": "<div>\n<style scoped>\n    .dataframe tbody tr th:only-of-type {\n        vertical-align: middle;\n    }\n\n    .dataframe tbody tr th {\n        vertical-align: top;\n    }\n\n    .dataframe thead th {\n        text-align: right;\n    }\n</style>\n<table border=\"1\" class=\"dataframe\">\n  <thead>\n    <tr style=\"text-align: right;\">\n      <th></th>\n      <th>tweet</th>\n      <th>from</th>\n    </tr>\n  </thead>\n  <tbody>\n    <tr>\n      <th>0</th>\n      <td>Настало время для ингаляторов Дружок Сальбутам...</td>\n      <td>Настало время для ингаляторов. Дружок, Сальбут...</td>\n    </tr>\n    <tr>\n      <th>1</th>\n      <td>@int На прошлой зимней олимпиаде большинство л...</td>\n      <td>15) На прошлой зимней олимпиаде большинство лы...</td>\n    </tr>\n    <tr>\n      <th>2</th>\n      <td>Не соглашусь с заменой ЗОК на метопролол в так...</td>\n      <td>Не соглашусь с заменой ЗОК на метопролол в так...</td>\n    </tr>\n    <tr>\n      <th>3</th>\n      <td>@username мезим Смекта Если отравление то лопе...</td>\n      <td>@di2m1 мезим Смекта Если отравление, то лоперамид</td>\n    </tr>\n    <tr>\n      <th>4</th>\n      <td>Уберите микроволновки и имодиум Действуют соул...</td>\n      <td>Уберите микроволновки и имодиум  Действуют соу...</td>\n    </tr>\n    <tr>\n      <th>...</th>\n      <td>...</td>\n      <td>...</td>\n    </tr>\n    <tr>\n      <th>9510</th>\n      <td>Поставка лекарственных препаратов МНН Формотер...</td>\n      <td>Поставка лекарственных препаратов (МНН: Формот...</td>\n    </tr>\n    <tr>\n      <th>9511</th>\n      <td>единственная радость моей жизни прозак</td>\n      <td>единственная радость моей жизни прозак</td>\n    </tr>\n    <tr>\n      <th>9512</th>\n      <td>@username @int Героин класс A @int Кокаин клас...</td>\n      <td>@anatoliisharii 1. Героин(класс A) 2. Кокаин(к...</td>\n    </tr>\n    <tr>\n      <th>9513</th>\n      <td>@int лет девочки разноцветные витаминки @int л...</td>\n      <td>16 лет: девочки разноцветные витаминки  25 лет...</td>\n    </tr>\n    <tr>\n      <th>9514</th>\n      <td>если желание бесконечно пихать в себя пищу пре...</td>\n      <td>если желание бесконечно пихать в себя пищу пре...</td>\n    </tr>\n  </tbody>\n</table>\n<p>9515 rows × 2 columns</p>\n</div>"
     },
     "execution_count": 27,
     "metadata": {},
     "output_type": "execute_result"
    }
   ],
   "source": [
    "import re\n",
    "import pandas as pd\n",
    "x_l = pd.read_csv('task2_ru_training.tsv', sep=',')\n",
    "\n",
    "\n",
    "def clean_text(text):\n",
    "    text = ' '.join(re.sub(\"(@[A-Za-z_0-9]+)\", \"@username\", text).split())\n",
    "    text = ' '.join(re.sub(\"(\\d+)\", \"@int \", text).split())\n",
    "    text = ' '.join(re.sub(\"((\\d\\.,)+)\", \"@float \", text).split())\n",
    "    text = ' '.join(re.sub(\"([^0-9A-Za-zА-яёЁ@ \\t])|(\\w+:\\/\\/\\S+)\",\" \", text).split())\n",
    "    return text\n",
    "\n",
    "x_l_c = []\n",
    "for x in x_l['tweet']:\n",
    "    x_l_c.append(clean_text(x))\n",
    "res = pd.DataFrame(columns=['tweet', 'from'])\n",
    "res['tweet'] = x_l_c\n",
    "res['from'] = x_l['tweet']\n",
    "res"
   ]
  }
 ],
 "metadata": {
  "kernelspec": {
   "display_name": "Python 3",
   "language": "python",
   "name": "python3"
  },
  "language_info": {
   "codemirror_mode": {
    "name": "ipython",
    "version": 2
   },
   "file_extension": ".py",
   "mimetype": "text/x-python",
   "name": "python",
   "nbconvert_exporter": "python",
   "pygments_lexer": "ipython2",
   "version": "2.7.6"
  }
 },
 "nbformat": 4,
 "nbformat_minor": 5
}
