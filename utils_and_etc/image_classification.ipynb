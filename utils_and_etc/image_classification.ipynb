{
 "cells": [
  {
   "cell_type": "markdown",
   "metadata": {
    "id": "IV_FQebEzvfT"
   },
   "source": [
    "Классификатор для кошек/собак"
   ]
  },
  {
   "cell_type": "code",
   "execution_count": null,
   "metadata": {
    "id": "3hoJXwO9z3hH"
   },
   "outputs": [],
   "source": [
    "import tensorflow as tf\n",
    "from tensorflow.keras import layers, models, optimizers, callbacks, preprocessing, regularizers\n",
    "import matplotlib.pyplot as plt\n",
    "import numpy as np"
   ]
  },
  {
   "cell_type": "code",
   "execution_count": null,
   "metadata": {
    "colab": {
     "base_uri": "https://localhost:8080/"
    },
    "id": "qSOkDiu90gEU",
    "outputId": "7f7cc177-b250-4675-da5b-b2c26f1f0e87"
   },
   "outputs": [
    {
     "name": "stdout",
     "output_type": "stream",
     "text": [
      "Downloading data from https://storage.googleapis.com/mledu-datasets/cats_and_dogs_filtered.zip\n",
      "68606236/68606236 [==============================] - 0s 0us/step\n"
     ]
    }
   ],
   "source": [
    "# Загружаем датасет котов и собак\n",
    "dataset_url = \"https://storage.googleapis.com/mledu-datasets/cats_and_dogs_filtered.zip\"\n",
    "data_dir = tf.keras.utils.get_file('cats_and_dogs.zip', origin=dataset_url, extract=True)"
   ]
  },
  {
   "cell_type": "code",
   "execution_count": null,
   "metadata": {
    "colab": {
     "base_uri": "https://localhost:8080/"
    },
    "id": "0nkL9nH20svh",
    "outputId": "8e889d63-51ee-4547-c4be-8ce812a17e3e"
   },
   "outputs": [
    {
     "name": "stdout",
     "output_type": "stream",
     "text": [
      "Found 3000 files belonging to 2 classes.\n",
      "Using 2400 files for training.\n",
      "Found 3000 files belonging to 2 classes.\n",
      "Using 600 files for validation.\n"
     ]
    }
   ],
   "source": [
    "# Делаем предобработку\n",
    "import os, shutil\n",
    "\n",
    "# предобрпботка исходных данных датасета\n",
    "data_dir = os.path.join(os.path.dirname(data_dir), 'cats_and_dogs_filtered')\n",
    "\n",
    "old_train = os.path.join(data_dir, 'train')\n",
    "old_validation = os.path.join(data_dir, 'validation')\n",
    "\n",
    "os.makedirs('dataset/cats', exist_ok=True)\n",
    "os.makedirs('dataset/dogs', exist_ok=True)\n",
    "\n",
    "for c in os.listdir(os.path.join(old_train, 'cats')):\n",
    "  shutil.copyfile(os.path.join(old_train, 'cats', c), os.path.join('dataset/cats', c))\n",
    "for c in os.listdir(os.path.join(old_validation, 'cats')):\n",
    "  shutil.copyfile(os.path.join(old_validation, 'cats', c), os.path.join('dataset/cats', c))\n",
    "\n",
    "for c in os.listdir(os.path.join(old_train, 'dogs')):\n",
    "  shutil.copyfile(os.path.join(old_train, 'dogs', c), os.path.join('dataset/dogs', c))\n",
    "for c in os.listdir(os.path.join(old_validation, 'dogs')):\n",
    "  shutil.copyfile(os.path.join(old_validation, 'dogs', c), os.path.join('dataset/dogs', c))\n",
    "\n",
    "\n",
    "# Размер картинки и размер батча\n",
    "img_size = (224, 224)\n",
    "batch_size = 32\n",
    "\n",
    "# Разбиваем выборку\n",
    "train_dataset = preprocessing.image_dataset_from_directory(\n",
    "    'dataset',\n",
    "    validation_split=0.2,\n",
    "    subset=\"training\",\n",
    "    seed=123,\n",
    "    image_size=img_size,\n",
    "    batch_size=batch_size\n",
    ")\n",
    "\n",
    "validation_dataset = preprocessing.image_dataset_from_directory(\n",
    "    'dataset',\n",
    "    validation_split=0.2,\n",
    "    subset=\"validation\",\n",
    "    seed=123,\n",
    "    image_size=img_size,\n",
    "    batch_size=batch_size\n",
    ")"
   ]
  },
  {
   "cell_type": "code",
   "execution_count": null,
   "metadata": {
    "colab": {
     "base_uri": "https://localhost:8080/"
    },
    "id": "rvv94su305jh",
    "outputId": "74316bb1-8d16-45b8-8458-019e810b23d0"
   },
   "outputs": [
    {
     "name": "stdout",
     "output_type": "stream",
     "text": [
      "Downloading data from https://storage.googleapis.com/tensorflow/keras-applications/mobilenet_v2/mobilenet_v2_weights_tf_dim_ordering_tf_kernels_1.0_224_no_top.h5\n",
      "9406464/9406464 [==============================] - 0s 0us/step\n"
     ]
    }
   ],
   "source": [
    "pretrained_model = tf.keras.applications.MobileNetV2(input_shape=(224, 224, 3),\n",
    "                                               include_top=False,\n",
    "                                               weights='imagenet')\n"
   ]
  },
  {
   "cell_type": "code",
   "execution_count": null,
   "metadata": {
    "id": "HOHno34K1HEG"
   },
   "outputs": [],
   "source": [
    "pretrained_model.trainable = False"
   ]
  },
  {
   "cell_type": "code",
   "execution_count": null,
   "metadata": {
    "id": "NvfkXuOu1OgZ"
   },
   "outputs": [],
   "source": [
    "model = models.Sequential([\n",
    "    pretrained_model,\n",
    "    layers.GlobalAveragePooling2D(),\n",
    "    layers.Dense(512, activation='relu', kernel_regularizer=regularizers.l1_l2(l1=1e-5, l2=1e-4)),\n",
    "    layers.BatchNormalization(),\n",
    "    layers.Dropout(0.3),\n",
    "    layers.Dense(32, activation='relu', kernel_regularizer=regularizers.l1_l2(l1=1e-5, l2=1e-4)),\n",
    "    layers.Dropout(0.4),\n",
    "    layers.Dense(1, activation='sigmoid')\n",
    "])"
   ]
  },
  {
   "cell_type": "code",
   "execution_count": null,
   "metadata": {
    "id": "b7OjaXe_1TjV"
   },
   "outputs": [],
   "source": [
    "# компилируем модель\n",
    "model.compile(\n",
    "  optimizer=tf.keras.optimizers.Adam(learning_rate=0.0001),\n",
    "  loss=tf.keras.losses.BinaryCrossentropy(),\n",
    "  metrics=['accuracy']\n",
    "  )\n"
   ]
  },
  {
   "cell_type": "code",
   "execution_count": null,
   "metadata": {
    "colab": {
     "base_uri": "https://localhost:8080/"
    },
    "id": "O03AbnOQ1h8Z",
    "outputId": "7cf2717c-eb5e-416c-ea2a-e1301494a460"
   },
   "outputs": [
    {
     "name": "stdout",
     "output_type": "stream",
     "text": [
      "Epoch 1/50\n",
      "75/75 [==============================] - 16s 85ms/step - loss: 1.0753 - accuracy: 0.6179 - val_loss: 0.9160 - val_accuracy: 0.6417 - lr: 0.0010\n",
      "Epoch 2/50\n",
      "75/75 [==============================] - 6s 83ms/step - loss: 0.8557 - accuracy: 0.6875 - val_loss: 0.7946 - val_accuracy: 0.7083 - lr: 0.0010\n",
      "Epoch 3/50\n",
      "75/75 [==============================] - 5s 61ms/step - loss: 0.7664 - accuracy: 0.7175 - val_loss: 0.8045 - val_accuracy: 0.7050 - lr: 0.0010\n",
      "Epoch 4/50\n",
      "75/75 [==============================] - 5s 64ms/step - loss: 0.7080 - accuracy: 0.7554 - val_loss: 0.7382 - val_accuracy: 0.7233 - lr: 1.0000e-04\n",
      "Epoch 5/50\n",
      "75/75 [==============================] - 6s 68ms/step - loss: 0.6999 - accuracy: 0.7533 - val_loss: 0.7328 - val_accuracy: 0.7250 - lr: 1.0000e-04\n",
      "Epoch 6/50\n",
      "75/75 [==============================] - 5s 62ms/step - loss: 0.6862 - accuracy: 0.7596 - val_loss: 0.7288 - val_accuracy: 0.7200 - lr: 1.0000e-04\n",
      "Epoch 7/50\n",
      "75/75 [==============================] - 6s 78ms/step - loss: 0.6752 - accuracy: 0.7779 - val_loss: 0.7230 - val_accuracy: 0.7117 - lr: 1.0000e-04\n",
      "Epoch 8/50\n",
      "75/75 [==============================] - 5s 64ms/step - loss: 0.6490 - accuracy: 0.7929 - val_loss: 0.7223 - val_accuracy: 0.7150 - lr: 1.0000e-04\n",
      "Epoch 9/50\n",
      "75/75 [==============================] - 6s 71ms/step - loss: 0.6437 - accuracy: 0.7887 - val_loss: 0.7202 - val_accuracy: 0.7267 - lr: 1.0000e-04\n",
      "Epoch 10/50\n",
      "75/75 [==============================] - 6s 82ms/step - loss: 0.6409 - accuracy: 0.7871 - val_loss: 0.7155 - val_accuracy: 0.7183 - lr: 1.0000e-04\n",
      "Epoch 11/50\n",
      "75/75 [==============================] - 6s 76ms/step - loss: 0.6457 - accuracy: 0.7904 - val_loss: 0.7145 - val_accuracy: 0.7283 - lr: 1.0000e-04\n",
      "Epoch 12/50\n",
      "75/75 [==============================] - 5s 60ms/step - loss: 0.6318 - accuracy: 0.7812 - val_loss: 0.7175 - val_accuracy: 0.7000 - lr: 1.0000e-04\n",
      "Epoch 13/50\n",
      "75/75 [==============================] - 6s 79ms/step - loss: 0.6156 - accuracy: 0.7962 - val_loss: 0.7191 - val_accuracy: 0.7117 - lr: 1.0000e-04\n",
      "Epoch 14/50\n",
      "75/75 [==============================] - 5s 59ms/step - loss: 0.6191 - accuracy: 0.7979 - val_loss: 0.7216 - val_accuracy: 0.7067 - lr: 1.0000e-04\n",
      "Epoch 15/50\n",
      "75/75 [==============================] - 5s 60ms/step - loss: 0.6047 - accuracy: 0.8012 - val_loss: 0.7162 - val_accuracy: 0.7167 - lr: 1.0000e-04\n",
      "Epoch 16/50\n",
      "75/75 [==============================] - 6s 72ms/step - loss: 0.5954 - accuracy: 0.8021 - val_loss: 0.7170 - val_accuracy: 0.7283 - lr: 1.0000e-04\n",
      "Epoch 17/50\n",
      "75/75 [==============================] - 5s 62ms/step - loss: 0.5891 - accuracy: 0.8079 - val_loss: 0.7079 - val_accuracy: 0.7350 - lr: 1.0000e-05\n",
      "Epoch 18/50\n",
      "75/75 [==============================] - 6s 82ms/step - loss: 0.5874 - accuracy: 0.8129 - val_loss: 0.7084 - val_accuracy: 0.7300 - lr: 1.0000e-05\n",
      "Epoch 19/50\n",
      "75/75 [==============================] - 5s 60ms/step - loss: 0.5905 - accuracy: 0.8079 - val_loss: 0.7093 - val_accuracy: 0.7250 - lr: 1.0000e-05\n",
      "Epoch 20/50\n",
      "75/75 [==============================] - 6s 81ms/step - loss: 0.5905 - accuracy: 0.8133 - val_loss: 0.7106 - val_accuracy: 0.7217 - lr: 1.0000e-05\n",
      "Epoch 21/50\n",
      "75/75 [==============================] - 5s 61ms/step - loss: 0.5868 - accuracy: 0.8079 - val_loss: 0.7108 - val_accuracy: 0.7200 - lr: 1.0000e-05\n",
      "Epoch 22/50\n",
      "75/75 [==============================] - 5s 60ms/step - loss: 0.5792 - accuracy: 0.8254 - val_loss: 0.7108 - val_accuracy: 0.7217 - lr: 1.0000e-05\n",
      "Epoch 23/50\n",
      "75/75 [==============================] - 6s 70ms/step - loss: 0.5756 - accuracy: 0.8242 - val_loss: 0.7115 - val_accuracy: 0.7217 - lr: 1.0000e-05\n",
      "Epoch 24/50\n",
      "75/75 [==============================] - 5s 62ms/step - loss: 0.5740 - accuracy: 0.8250 - val_loss: 0.7106 - val_accuracy: 0.7250 - lr: 1.0000e-05\n",
      "Epoch 25/50\n",
      "75/75 [==============================] - 6s 82ms/step - loss: 0.5768 - accuracy: 0.8225 - val_loss: 0.7099 - val_accuracy: 0.7267 - lr: 1.0000e-05\n",
      "Epoch 26/50\n",
      "75/75 [==============================] - 5s 61ms/step - loss: 0.5807 - accuracy: 0.8225 - val_loss: 0.7103 - val_accuracy: 0.7267 - lr: 1.0000e-05\n",
      "Epoch 27/50\n",
      "75/75 [==============================] - 6s 81ms/step - loss: 0.5794 - accuracy: 0.8150 - val_loss: 0.7110 - val_accuracy: 0.7250 - lr: 1.0000e-05\n",
      "Epoch 28/50\n",
      "75/75 [==============================] - 5s 61ms/step - loss: 0.5798 - accuracy: 0.8213 - val_loss: 0.7109 - val_accuracy: 0.7250 - lr: 1.0000e-05\n",
      "Epoch 29/50\n",
      "75/75 [==============================] - 5s 61ms/step - loss: 0.5761 - accuracy: 0.8179 - val_loss: 0.7112 - val_accuracy: 0.7267 - lr: 1.0000e-05\n",
      "Epoch 30/50\n",
      "75/75 [==============================] - 6s 72ms/step - loss: 0.5744 - accuracy: 0.8267 - val_loss: 0.7112 - val_accuracy: 0.7267 - lr: 1.0000e-05\n",
      "Epoch 31/50\n",
      "75/75 [==============================] - 5s 60ms/step - loss: 0.5614 - accuracy: 0.8275 - val_loss: 0.7116 - val_accuracy: 0.7283 - lr: 1.0000e-05\n",
      "Epoch 32/50\n",
      "75/75 [==============================] - 7s 89ms/step - loss: 0.5735 - accuracy: 0.8254 - val_loss: 0.7118 - val_accuracy: 0.7267 - lr: 1.0000e-05\n",
      "Epoch 33/50\n",
      "75/75 [==============================] - 5s 63ms/step - loss: 0.5714 - accuracy: 0.8167 - val_loss: 0.7115 - val_accuracy: 0.7250 - lr: 1.0000e-05\n",
      "Epoch 34/50\n",
      "75/75 [==============================] - 9s 115ms/step - loss: 0.5754 - accuracy: 0.8179 - val_loss: 0.7112 - val_accuracy: 0.7300 - lr: 1.0000e-05\n",
      "Epoch 35/50\n",
      "75/75 [==============================] - 5s 60ms/step - loss: 0.5635 - accuracy: 0.8267 - val_loss: 0.7109 - val_accuracy: 0.7283 - lr: 1.0000e-05\n",
      "Epoch 36/50\n",
      "75/75 [==============================] - 6s 78ms/step - loss: 0.5711 - accuracy: 0.8167 - val_loss: 0.7107 - val_accuracy: 0.7267 - lr: 1.0000e-05\n",
      "Epoch 37/50\n",
      "75/75 [==============================] - 5s 62ms/step - loss: 0.5551 - accuracy: 0.8263 - val_loss: 0.7110 - val_accuracy: 0.7267 - lr: 1.0000e-05\n"
     ]
    }
   ],
   "source": [
    "\n",
    "def scheduler(epoch):\n",
    "    if epoch <= 2:\n",
    "        return 0.001\n",
    "    if epoch <= 15:\n",
    "        return 0.0001\n",
    "    return 0.00001\n",
    "\n",
    "lr_callback = tf.keras.callbacks.LearningRateScheduler(scheduler)\n",
    "\n",
    "early_stopping = callbacks.EarlyStopping(\n",
    "    min_delta=0.001,\n",
    "    patience=20,\n",
    "    restore_best_weights=True,\n",
    ")\n",
    "\n",
    "\n",
    "history =  model.fit(\n",
    "  train_dataset,\n",
    "  validation_data=validation_dataset,\n",
    "  epochs=50,\n",
    "  callbacks=[early_stopping, lr_callback],\n",
    ")"
   ]
  }
 ],
 "metadata": {
  "accelerator": "GPU",
  "colab": {
   "gpuType": "T4",
   "provenance": []
  },
  "kernelspec": {
   "display_name": "Python 3 (ipykernel)",
   "language": "python",
   "name": "python3"
  },
  "language_info": {
   "codemirror_mode": {
    "name": "ipython",
    "version": 3
   },
   "file_extension": ".py",
   "mimetype": "text/x-python",
   "name": "python",
   "nbconvert_exporter": "python",
   "pygments_lexer": "ipython3",
   "version": "3.12.3"
  }
 },
 "nbformat": 4,
 "nbformat_minor": 4
}
