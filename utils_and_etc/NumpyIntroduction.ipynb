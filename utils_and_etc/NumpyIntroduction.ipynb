{
 "cells": [
  {
   "cell_type": "markdown",
   "id": "equipped-acrobat",
   "metadata": {},
   "source": [
    "NumPy arrays are like “lists” — but better because it’s (1) faster, (2) more convenient, and (3) takes up less memory\n"
   ]
  },
  {
   "cell_type": "code",
   "id": "hindu-watson",
   "metadata": {
    "ExecuteTime": {
     "end_time": "2024-05-12T18:28:28.487398Z",
     "start_time": "2024-05-12T18:28:27.301481Z"
    }
   },
   "source": [
    "!pip install numpy"
   ],
   "outputs": [
    {
     "name": "stdout",
     "output_type": "stream",
     "text": [
      "Requirement already satisfied: numpy in ./.venv/lib/python3.12/site-packages (1.26.4)\r\n",
      "\r\n",
      "\u001B[1m[\u001B[0m\u001B[34;49mnotice\u001B[0m\u001B[1;39;49m]\u001B[0m\u001B[39;49m A new release of pip is available: \u001B[0m\u001B[31;49m23.2.1\u001B[0m\u001B[39;49m -> \u001B[0m\u001B[32;49m24.0\u001B[0m\r\n",
      "\u001B[1m[\u001B[0m\u001B[34;49mnotice\u001B[0m\u001B[1;39;49m]\u001B[0m\u001B[39;49m To update, run: \u001B[0m\u001B[32;49mpip install --upgrade pip\u001B[0m\r\n"
     ]
    }
   ],
   "execution_count": 2
  },
  {
   "cell_type": "code",
   "id": "removable-stack",
   "metadata": {
    "ExecuteTime": {
     "end_time": "2024-05-12T18:28:28.618052Z",
     "start_time": "2024-05-12T18:28:28.488559Z"
    }
   },
   "source": [
    "import numpy as np"
   ],
   "outputs": [],
   "execution_count": 3
  },
  {
   "cell_type": "markdown",
   "id": "dental-tissue",
   "metadata": {},
   "source": [
    "There are different ways of creating an array, but this is the simplest method. You can create one or more dimensional arrays.\n",
    "np array creates an array np.array([1,2,3]) one dimensional or 2 dimensional np.array([[1,2,3],[4,5,6]])"
   ]
  },
  {
   "cell_type": "code",
   "id": "equal-kingdom",
   "metadata": {
    "ExecuteTime": {
     "end_time": "2024-05-12T18:28:28.620848Z",
     "start_time": "2024-05-12T18:28:28.618700Z"
    }
   },
   "source": [
    "english_grade = [100,90,92,95,70,84,80,75,89]\n",
    "E = np.array(english_grade)\n",
    "print(E)\n"
   ],
   "outputs": [
    {
     "name": "stdout",
     "output_type": "stream",
     "text": [
      "[100  90  92  95  70  84  80  75  89]\n"
     ]
    }
   ],
   "execution_count": 4
  },
  {
   "cell_type": "markdown",
   "id": "trying-intro",
   "metadata": {},
   "source": [
    "Creates an array start,stop, step"
   ]
  },
  {
   "cell_type": "code",
   "id": "acoustic-horror",
   "metadata": {
    "ExecuteTime": {
     "end_time": "2024-05-12T18:28:28.626414Z",
     "start_time": "2024-05-12T18:28:28.621832Z"
    }
   },
   "source": [
    "print(np.arange(1,10,2))\n"
   ],
   "outputs": [
    {
     "name": "stdout",
     "output_type": "stream",
     "text": [
      "[1 3 5 7 9]\n"
     ]
    }
   ],
   "execution_count": 5
  },
  {
   "cell_type": "markdown",
   "id": "suburban-liver",
   "metadata": {},
   "source": [
    "Similar to arange but use sample number, \n",
    "start,stop, num. Give me 4 evenly space numbers within 1 and 10 \n",
    "\n",
    "Возвращает одномерный массив из указанного количества элементов, значения которых равномерно распределенны внутри заданного интервала. "
   ]
  },
  {
   "cell_type": "code",
   "id": "wireless-philip",
   "metadata": {
    "ExecuteTime": {
     "end_time": "2024-05-12T18:28:28.631677Z",
     "start_time": "2024-05-12T18:28:28.627031Z"
    }
   },
   "source": [
    "print(np.linspace(1,10,4))"
   ],
   "outputs": [
    {
     "name": "stdout",
     "output_type": "stream",
     "text": [
      "[ 1.  4.  7. 10.]\n"
     ]
    }
   ],
   "execution_count": 6
  },
  {
   "cell_type": "markdown",
   "id": "objective-repository",
   "metadata": {},
   "source": [
    "Gives an element without chaning it data\n",
    "You can see that in this example, there are three elements (starting with 0, 4, 8) on axis 0, and four elements on axis 1 (starting with 0, 1, 2, 3).\n"
   ]
  },
  {
   "cell_type": "code",
   "id": "broad-inspector",
   "metadata": {
    "ExecuteTime": {
     "end_time": "2024-05-12T18:28:28.636915Z",
     "start_time": "2024-05-12T18:28:28.632239Z"
    }
   },
   "source": [
    "resh = np.arange(12).reshape(3,4)\n",
    "print(resh)"
   ],
   "outputs": [
    {
     "name": "stdout",
     "output_type": "stream",
     "text": [
      "[[ 0  1  2  3]\n",
      " [ 4  5  6  7]\n",
      " [ 8  9 10 11]]\n"
     ]
    }
   ],
   "execution_count": 7
  },
  {
   "cell_type": "markdown",
   "id": "supreme-hollywood",
   "metadata": {},
   "source": [
    "For axis 0, you get 12 as the first element because 0 + 4 + 8 = 12.\n",
    "For axis 1, you get 6 as the first element because 0 + 1 + 2 + 3 = 6."
   ]
  },
  {
   "cell_type": "code",
   "id": "smaller-samoa",
   "metadata": {
    "ExecuteTime": {
     "end_time": "2024-05-12T18:28:28.642363Z",
     "start_time": "2024-05-12T18:28:28.637540Z"
    }
   },
   "source": [
    "sum0 = np.sum(resh, axis=0)\n",
    "sum1 = np.sum(resh, axis=1)\n",
    "print(sum0)\n",
    "print(sum1)"
   ],
   "outputs": [
    {
     "name": "stdout",
     "output_type": "stream",
     "text": [
      "[12 15 18 21]\n",
      "[ 6 22 38]\n"
     ]
    }
   ],
   "execution_count": 8
  },
  {
   "cell_type": "markdown",
   "id": "alleged-commitment",
   "metadata": {},
   "source": [
    "Returns the variance (дисперсия) of the array of the elements along the specified axis"
   ]
  },
  {
   "cell_type": "code",
   "id": "timely-minister",
   "metadata": {
    "ExecuteTime": {
     "end_time": "2024-05-12T18:28:28.649478Z",
     "start_time": "2024-05-12T18:28:28.642991Z"
    }
   },
   "source": [
    "print(np.var(np.array([[1,2],[3,4]])))"
   ],
   "outputs": [
    {
     "name": "stdout",
     "output_type": "stream",
     "text": [
      "1.25\n"
     ]
    }
   ],
   "execution_count": 9
  },
  {
   "cell_type": "markdown",
   "id": "straight-closer",
   "metadata": {},
   "source": [
    "Returns the standart deviation"
   ]
  },
  {
   "cell_type": "code",
   "id": "endless-layout",
   "metadata": {
    "ExecuteTime": {
     "end_time": "2024-05-12T18:28:28.654492Z",
     "start_time": "2024-05-12T18:28:28.650128Z"
    }
   },
   "source": [
    "print(np.std(np.array([[1,2],[3,4]])))"
   ],
   "outputs": [
    {
     "name": "stdout",
     "output_type": "stream",
     "text": [
      "1.118033988749895\n"
     ]
    }
   ],
   "execution_count": 10
  },
  {
   "cell_type": "markdown",
   "id": "fossil-moment",
   "metadata": {},
   "source": [
    "Shuffle the array along the first axis of a multu-dimenstional array"
   ]
  },
  {
   "cell_type": "code",
   "id": "funny-pencil",
   "metadata": {
    "ExecuteTime": {
     "end_time": "2024-05-12T18:28:28.659595Z",
     "start_time": "2024-05-12T18:28:28.655655Z"
    }
   },
   "source": [
    "english_grade = [100,90,92,95,70,84,80,75,89]\n",
    "np.random.shuffle(english_grade)\n",
    "print(english_grade)"
   ],
   "outputs": [
    {
     "name": "stdout",
     "output_type": "stream",
     "text": [
      "[90, 95, 70, 80, 84, 75, 100, 89, 92]\n"
     ]
    }
   ],
   "execution_count": 11
  },
  {
   "cell_type": "markdown",
   "id": "earlier-sport",
   "metadata": {},
   "source": [
    "Extract part of array,\n",
    "start, stop, index"
   ]
  },
  {
   "cell_type": "code",
   "id": "premier-average",
   "metadata": {
    "ExecuteTime": {
     "end_time": "2024-05-12T18:28:28.664857Z",
     "start_time": "2024-05-12T18:28:28.660223Z"
    }
   },
   "source": [
    "a = np.arange(10)\n",
    "print(a)\n",
    "s = slice(2,7,2)\n",
    "print(s)\n",
    "print(a[s])\n",
    "# from 2 to 7 with step 2\n",
    "t = a[2:7:2]\n",
    "print(t)"
   ],
   "outputs": [
    {
     "name": "stdout",
     "output_type": "stream",
     "text": [
      "[0 1 2 3 4 5 6 7 8 9]\n",
      "slice(2, 7, 2)\n",
      "[2 4 6]\n",
      "[2 4 6]\n"
     ]
    }
   ],
   "execution_count": 12
  },
  {
   "cell_type": "markdown",
   "id": "smaller-delicious",
   "metadata": {},
   "source": [
    "Return contigious flattened array "
   ]
  },
  {
   "cell_type": "code",
   "id": "cellular-alloy",
   "metadata": {
    "ExecuteTime": {
     "end_time": "2024-05-12T18:28:28.669814Z",
     "start_time": "2024-05-12T18:28:28.665445Z"
    }
   },
   "source": [
    "print(np.ravel(resh))"
   ],
   "outputs": [
    {
     "name": "stdout",
     "output_type": "stream",
     "text": [
      "[ 0  1  2  3  4  5  6  7  8  9 10 11]\n"
     ]
    }
   ],
   "execution_count": 13
  },
  {
   "cell_type": "code",
   "id": "fitted-alexander",
   "metadata": {
    "ExecuteTime": {
     "end_time": "2024-05-12T18:28:28.671960Z",
     "start_time": "2024-05-12T18:28:28.670516Z"
    }
   },
   "source": [],
   "outputs": [],
   "execution_count": 13
  }
 ],
 "metadata": {
  "kernelspec": {
   "display_name": "Python 3",
   "language": "python",
   "name": "python3"
  },
  "language_info": {
   "codemirror_mode": {
    "name": "ipython",
    "version": 3
   },
   "file_extension": ".py",
   "mimetype": "text/x-python",
   "name": "python",
   "nbconvert_exporter": "python",
   "pygments_lexer": "ipython3",
   "version": "3.8.2"
  }
 },
 "nbformat": 4,
 "nbformat_minor": 5
}
