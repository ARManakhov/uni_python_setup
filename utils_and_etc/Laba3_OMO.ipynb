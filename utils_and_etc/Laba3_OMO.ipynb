{
 "nbformat": 4,
 "nbformat_minor": 0,
 "metadata": {
  "colab": {
   "provenance": []
  },
  "kernelspec": {
   "name": "python3",
   "display_name": "Python 3 (ipykernel)",
   "language": "python"
  },
  "language_info": {
   "name": "python"
  }
 },
 "cells": [
  {
   "cell_type": "code",
   "source": [
    "!git clone https://github.com/Logren777/dataset_drive\n",
    "!cd dataset_drive"
   ],
   "metadata": {
    "id": "rzEndJs-1WCs",
    "colab": {
     "base_uri": "https://localhost:8080/"
    },
    "outputId": "81a4d99c-a58d-4493-81cd-7422f0974fcd",
    "ExecuteTime": {
     "end_time": "2024-06-05T17:28:40.356657Z",
     "start_time": "2024-06-05T17:28:13.119265Z"
    }
   },
   "outputs": [
    {
     "name": "stdout",
     "output_type": "stream",
     "text": [
      "Cloning into 'dataset_drive'...\r\n",
      "remote: Enumerating objects: 47766, done.\u001B[K\r\n",
      "remote: Total 47766 (delta 0), reused 0 (delta 0), pack-reused 47766\u001B[Kbjects:   3% (1433/47766), 3.44 MiB | 2.28 MiB/sReceiving objects:   4% (1996/47766), 4.82 MiB | 2.39 MiB/sReceiving objects:   6% (2866/47766), 6.22 MiB | 2.47 MiB/sReceiving objects:   7% (3513/47766), 7.65 MiB | 2.53 MiB/sReceiving objects:   9% (4299/47766), 9.12 MiB | 2.58 MiB/sReceiving objects:  10% (4823/47766), 9.12 MiB | 2.58 MiB/sReceiving objects:  12% (5732/47766), 12.26 MiB | 2.70 MiB/sReceiving objects:  13% (6238/47766), 12.26 MiB | 2.70 MiB/sReceiving objects:  15% (7165/47766), 15.63 MiB | 2.97 MiB/sReceiving objects:  16% (7643/47766), 15.63 MiB | 2.97 MiB/sReceiving objects:  18% (8598/47766), 19.21 MiB | 3.17 MiB/sReceiving objects:  19% (9149/47766), 19.21 MiB | 3.17 MiB/sReceiving objects:  21% (10031/47766), 23.02 MiB | 3.38 MiB/sReceiving objects:  22% (10881/47766), 23.02 MiB | 3.38 MiB/sReceiving objects:  24% (11464/47766), 25.01 MiB | 3.50 MiB/sReceiving objects:  26% (12420/47766), 27.05 MiB | 3.61 MiB/sReceiving objects:  27% (13141/47766), 27.05 MiB | 3.61 MiB/sReceiving objects:  29% (13853/47766), 29.15 MiB | 3.72 MiB/sReceiving objects:  31% (14808/47766), 31.32 MiB | 3.83 MiB/sReceiving objects:  32% (15286/47766), 31.32 MiB | 3.83 MiB/sReceiving objects:  34% (16241/47766), 33.57 MiB | 3.95 MiB/sReceiving objects:  35% (16963/47766), 35.85 MiB | 4.07 MiB/sReceiving objects:  37% (17674/47766), 37.78 MiB | 4.09 MiB/sReceiving objects:  39% (18629/47766), 39.89 MiB | 4.14 MiB/sReceiving objects:  40% (19107/47766), 42.13 MiB | 4.21 MiB/sReceiving objects:  42% (20062/47766), 44.47 MiB | 4.29 MiB/sReceiving objects:  43% (20748/47766), 44.47 MiB | 4.29 MiB/sReceiving objects:  45% (21495/47766), 46.88 MiB | 4.38 MiB/sReceiving objects:  47% (22451/47766), 49.33 MiB | 4.46 MiB/sReceiving objects:  49% (23406/47766), 49.33 MiB | 4.46 MiB/sReceiving objects:  50% (23883/47766), 51.85 MiB | 4.54 MiB/sReceiving objects:  52% (24839/47766), 51.85 MiB | 4.54 MiB/sReceiving objects:  53% (25706/47766), 54.38 MiB | 4.60 MiB/sReceiving objects:  55% (26272/47766), 56.92 MiB | 4.67 MiB/sReceiving objects:  57% (27227/47766), 59.46 MiB | 4.81 MiB/sReceiving objects:  58% (27791/47766), 59.46 MiB | 4.81 MiB/sReceiving objects:  60% (28660/47766), 61.98 MiB | 4.89 MiB/sReceiving objects:  62% (29615/47766), 64.54 MiB | 4.96 MiB/sReceiving objects:  63% (30093/47766), 64.54 MiB | 4.96 MiB/sReceiving objects:  65% (31048/47766), 67.12 MiB | 5.01 MiB/sReceiving objects:  67% (32004/47766), 69.68 MiB | 5.03 MiB/sReceiving objects:  69% (32959/47766), 72.33 MiB | 5.07 MiB/sReceiving objects:  71% (33914/47766), 72.33 MiB | 5.07 MiB/sReceiving objects:  73% (34870/47766), 75.00 MiB | 5.11 MiB/sReceiving objects:  74% (35347/47766), 75.00 MiB | 5.11 MiB/sReceiving objects:  76% (36303/47766), 77.68 MiB | 5.13 MiB/sReceiving objects:  78% (37258/47766), 80.50 MiB | 5.19 MiB/sReceiving objects:  79% (37736/47766), 83.34 MiB | 5.25 MiB/sReceiving objects:  81% (38691/47766), 83.34 MiB | 5.25 MiB/sReceiving objects:  83% (39646/47766), 86.26 MiB | 5.35 MiB/sReceiving objects:  84% (40124/47766), 86.26 MiB | 5.35 MiB/sReceiving objects:  86% (41079/47766), 89.39 MiB | 5.48 MiB/sReceiving objects:  88% (42035/47766), 91.83 MiB | 5.46 MiB/sReceiving objects:  89% (42512/47766), 91.83 MiB | 5.46 MiB/sReceiving objects:  91% (43468/47766), 94.35 MiB | 5.46 MiB/sReceiving objects:  93% (44423/47766), 97.05 MiB | 5.47 MiB/sReceiving objects:  94% (44901/47766), 97.05 MiB | 5.47 MiB/sReceiving objects:  96% (45856/47766), 99.90 MiB | 5.52 MiB/sReceiving objects:  98% (46811/47766), 102.87 MiB | 5.59 MiB/sReceiving objects:  99% (47289/47766), 102.87 MiB | 5.59 MiB/s\r\n",
      "Receiving objects: 100% (47766/47766), 106.78 MiB | 4.39 MiB/s, done.\r\n",
      "Resolving deltas: 100% (681/681), done.\r\n",
      "Updating files: 100% (47950/47950), done.\r\n"
     ]
    }
   ],
   "execution_count": 1
  },
  {
   "cell_type": "code",
   "source": [
    "# import os\n",
    "# dataset = \"dataset_drive/dataset\"\n",
    "# dataset = os.listdir(dataset)"
   ],
   "metadata": {
    "id": "PnbbRlhSJ0YH",
    "ExecuteTime": {
     "end_time": "2024-06-05T17:29:53.680266Z",
     "start_time": "2024-06-05T17:29:53.678497Z"
    }
   },
   "outputs": [],
   "execution_count": 6
  },
  {
   "cell_type": "code",
   "source": [
    "import os\n",
    "import numpy as np\n",
    "from PIL import Image\n",
    "import torch\n",
    "from torch import nn, optim\n",
    "from torch.utils.data import Dataset, DataLoader\n",
    "import torchvision.transforms as transforms\n",
    "\n",
    "# Custom Dataset\n",
    "class ImageDataset(Dataset):\n",
    "    def __init__(self, image_dir, transform=None):\n",
    "        self.image_dir = image_dir\n",
    "        self.transform = transform\n",
    "        self.image_paths = [os.path.join(image_dir, fname) for fname in os.listdir(image_dir)]\n",
    "\n",
    "    def __len__(self):\n",
    "        return len(self.image_paths)\n",
    "\n",
    "    def __getitem__(self, idx):\n",
    "        img_path = self.image_paths[idx]\n",
    "        image = Image.open(img_path).convert('L')  # convert image to grayscale\n",
    "        if self.transform:\n",
    "            image = self.transform(image)\n",
    "        return image\n",
    "\n",
    "# Define the Autoencoder\n",
    "class Autoencoder(nn.Module):\n",
    "    def __init__(self):\n",
    "        super(Autoencoder, self).__init__()\n",
    "        self.encoder = nn.Sequential(\n",
    "            nn.Linear(96 * 54, 512),\n",
    "            nn.ReLU(True),\n",
    "            nn.Linear(512, 256),\n",
    "            nn.ReLU(True),\n",
    "            nn.Linear(256, 128),\n",
    "            nn.ReLU(True)\n",
    "        )\n",
    "        self.decoder = nn.Sequential(\n",
    "            nn.Linear(128, 256),\n",
    "            nn.ReLU(True),\n",
    "            nn.Linear(256, 512),\n",
    "            nn.ReLU(True),\n",
    "            nn.Linear(512, 96 * 54),\n",
    "            nn.Sigmoid()\n",
    "        )\n",
    "\n",
    "    def forward(self, x):\n",
    "        x = self.encoder(x)\n",
    "        x = self.decoder(x)\n",
    "        return x\n",
    "\n",
    "# Load the dataset\n",
    "transform = transforms.Compose([transforms.ToTensor(), transforms.Normalize((0.5,), (0.5,))])\n",
    "dataset = ImageDataset(image_dir='dataset_drive/dataset', transform=transform)\n",
    "dataloader = DataLoader(dataset, batch_size=32, shuffle=True)\n",
    "\n",
    "# Initialize the model, loss function and optimizer\n",
    "model = Autoencoder()\n",
    "criterion = nn.MSELoss()\n",
    "optimizer = optim.Adam(model.parameters(), lr=1e-3)\n",
    "\n",
    "device = torch.device('cuda' if torch.cuda.is_available() else 'cpu')\n",
    "print(device)\n",
    "\n",
    "model.to(device)\n",
    "# Training loop\n",
    "num_epochs = 5\n",
    "for epoch in range(num_epochs):\n",
    "    for data in dataloader:\n",
    "        img = data.view(data.size(0), -1)  # Flatten the image\n",
    "        img = img.to(device)\n",
    "        output = model(img)\n",
    "        loss = criterion(output, img)\n",
    "\n",
    "        optimizer.zero_grad()\n",
    "        loss.backward()\n",
    "        optimizer.step()\n",
    "\n",
    "    print(f'Epoch [{epoch+1}/{num_epochs}], Loss: {loss.item():.4f}')\n",
    "\n",
    "# Save the encoder part\n",
    "torch.save(model.encoder.state_dict(), 'encoder.pth')\n",
    "\n",
    "# To convert images to 128-dimensional vectors\n",
    "encoder = model.encoder\n",
    "encoder.eval()\n",
    "with torch.no_grad():\n",
    "    for data in dataloader:\n",
    "        img = data.view(data.size(0), -1)\n",
    "        img = img.to(device)\n",
    "        encoded_imgs = encoder(img)\n",
    "        print(encoded_imgs.shape)  # Should be (batch_size, 128)\n"
   ],
   "metadata": {
    "colab": {
     "base_uri": "https://localhost:8080/"
    },
    "id": "4ctdB7QRK3rY",
    "outputId": "69fdc40d-cfb9-45d2-d502-064f670f0631",
    "ExecuteTime": {
     "end_time": "2024-06-06T07:37:11.646008Z",
     "start_time": "2024-06-05T18:18:35.633277Z"
    }
   },
   "outputs": [
    {
     "name": "stdout",
     "output_type": "stream",
     "text": [
      "cuda\n"
     ]
    },
    {
     "ename": "KeyboardInterrupt",
     "evalue": "",
     "output_type": "error",
     "traceback": [
      "\u001B[0;31m---------------------------------------------------------------------------\u001B[0m",
      "\u001B[0;31mKeyboardInterrupt\u001B[0m                         Traceback (most recent call last)",
      "Cell \u001B[0;32mIn[13], line 69\u001B[0m\n\u001B[1;32m     67\u001B[0m num_epochs \u001B[38;5;241m=\u001B[39m \u001B[38;5;241m5\u001B[39m\n\u001B[1;32m     68\u001B[0m \u001B[38;5;28;01mfor\u001B[39;00m epoch \u001B[38;5;129;01min\u001B[39;00m \u001B[38;5;28mrange\u001B[39m(num_epochs):\n\u001B[0;32m---> 69\u001B[0m \u001B[43m    \u001B[49m\u001B[38;5;28;43;01mfor\u001B[39;49;00m\u001B[43m \u001B[49m\u001B[43mdata\u001B[49m\u001B[43m \u001B[49m\u001B[38;5;129;43;01min\u001B[39;49;00m\u001B[43m \u001B[49m\u001B[43mdataloader\u001B[49m\u001B[43m:\u001B[49m\n\u001B[1;32m     70\u001B[0m \u001B[43m        \u001B[49m\u001B[43mimg\u001B[49m\u001B[43m \u001B[49m\u001B[38;5;241;43m=\u001B[39;49m\u001B[43m \u001B[49m\u001B[43mdata\u001B[49m\u001B[38;5;241;43m.\u001B[39;49m\u001B[43mview\u001B[49m\u001B[43m(\u001B[49m\u001B[43mdata\u001B[49m\u001B[38;5;241;43m.\u001B[39;49m\u001B[43msize\u001B[49m\u001B[43m(\u001B[49m\u001B[38;5;241;43m0\u001B[39;49m\u001B[43m)\u001B[49m\u001B[43m,\u001B[49m\u001B[43m \u001B[49m\u001B[38;5;241;43m-\u001B[39;49m\u001B[38;5;241;43m1\u001B[39;49m\u001B[43m)\u001B[49m\u001B[43m  \u001B[49m\u001B[38;5;66;43;03m# Flatten the image\u001B[39;49;00m\n\u001B[1;32m     71\u001B[0m \u001B[43m        \u001B[49m\u001B[43mimg\u001B[49m\u001B[43m \u001B[49m\u001B[38;5;241;43m=\u001B[39;49m\u001B[43m \u001B[49m\u001B[43mimg\u001B[49m\u001B[38;5;241;43m.\u001B[39;49m\u001B[43mto\u001B[49m\u001B[43m(\u001B[49m\u001B[43mdevice\u001B[49m\u001B[43m)\u001B[49m\n",
      "File \u001B[0;32m~/Documents/prog/python_projects/uni_python_setup/.venv/lib/python3.12/site-packages/torch/utils/data/dataloader.py:631\u001B[0m, in \u001B[0;36m_BaseDataLoaderIter.__next__\u001B[0;34m(self)\u001B[0m\n\u001B[1;32m    628\u001B[0m \u001B[38;5;28;01mif\u001B[39;00m \u001B[38;5;28mself\u001B[39m\u001B[38;5;241m.\u001B[39m_sampler_iter \u001B[38;5;129;01mis\u001B[39;00m \u001B[38;5;28;01mNone\u001B[39;00m:\n\u001B[1;32m    629\u001B[0m     \u001B[38;5;66;03m# TODO(https://github.com/pytorch/pytorch/issues/76750)\u001B[39;00m\n\u001B[1;32m    630\u001B[0m     \u001B[38;5;28mself\u001B[39m\u001B[38;5;241m.\u001B[39m_reset()  \u001B[38;5;66;03m# type: ignore[call-arg]\u001B[39;00m\n\u001B[0;32m--> 631\u001B[0m data \u001B[38;5;241m=\u001B[39m \u001B[38;5;28;43mself\u001B[39;49m\u001B[38;5;241;43m.\u001B[39;49m\u001B[43m_next_data\u001B[49m\u001B[43m(\u001B[49m\u001B[43m)\u001B[49m\n\u001B[1;32m    632\u001B[0m \u001B[38;5;28mself\u001B[39m\u001B[38;5;241m.\u001B[39m_num_yielded \u001B[38;5;241m+\u001B[39m\u001B[38;5;241m=\u001B[39m \u001B[38;5;241m1\u001B[39m\n\u001B[1;32m    633\u001B[0m \u001B[38;5;28;01mif\u001B[39;00m \u001B[38;5;28mself\u001B[39m\u001B[38;5;241m.\u001B[39m_dataset_kind \u001B[38;5;241m==\u001B[39m _DatasetKind\u001B[38;5;241m.\u001B[39mIterable \u001B[38;5;129;01mand\u001B[39;00m \\\n\u001B[1;32m    634\u001B[0m         \u001B[38;5;28mself\u001B[39m\u001B[38;5;241m.\u001B[39m_IterableDataset_len_called \u001B[38;5;129;01mis\u001B[39;00m \u001B[38;5;129;01mnot\u001B[39;00m \u001B[38;5;28;01mNone\u001B[39;00m \u001B[38;5;129;01mand\u001B[39;00m \\\n\u001B[1;32m    635\u001B[0m         \u001B[38;5;28mself\u001B[39m\u001B[38;5;241m.\u001B[39m_num_yielded \u001B[38;5;241m>\u001B[39m \u001B[38;5;28mself\u001B[39m\u001B[38;5;241m.\u001B[39m_IterableDataset_len_called:\n",
      "File \u001B[0;32m~/Documents/prog/python_projects/uni_python_setup/.venv/lib/python3.12/site-packages/torch/utils/data/dataloader.py:675\u001B[0m, in \u001B[0;36m_SingleProcessDataLoaderIter._next_data\u001B[0;34m(self)\u001B[0m\n\u001B[1;32m    673\u001B[0m \u001B[38;5;28;01mdef\u001B[39;00m \u001B[38;5;21m_next_data\u001B[39m(\u001B[38;5;28mself\u001B[39m):\n\u001B[1;32m    674\u001B[0m     index \u001B[38;5;241m=\u001B[39m \u001B[38;5;28mself\u001B[39m\u001B[38;5;241m.\u001B[39m_next_index()  \u001B[38;5;66;03m# may raise StopIteration\u001B[39;00m\n\u001B[0;32m--> 675\u001B[0m     data \u001B[38;5;241m=\u001B[39m \u001B[38;5;28;43mself\u001B[39;49m\u001B[38;5;241;43m.\u001B[39;49m\u001B[43m_dataset_fetcher\u001B[49m\u001B[38;5;241;43m.\u001B[39;49m\u001B[43mfetch\u001B[49m\u001B[43m(\u001B[49m\u001B[43mindex\u001B[49m\u001B[43m)\u001B[49m  \u001B[38;5;66;03m# may raise StopIteration\u001B[39;00m\n\u001B[1;32m    676\u001B[0m     \u001B[38;5;28;01mif\u001B[39;00m \u001B[38;5;28mself\u001B[39m\u001B[38;5;241m.\u001B[39m_pin_memory:\n\u001B[1;32m    677\u001B[0m         data \u001B[38;5;241m=\u001B[39m _utils\u001B[38;5;241m.\u001B[39mpin_memory\u001B[38;5;241m.\u001B[39mpin_memory(data, \u001B[38;5;28mself\u001B[39m\u001B[38;5;241m.\u001B[39m_pin_memory_device)\n",
      "File \u001B[0;32m~/Documents/prog/python_projects/uni_python_setup/.venv/lib/python3.12/site-packages/torch/utils/data/_utils/fetch.py:51\u001B[0m, in \u001B[0;36m_MapDatasetFetcher.fetch\u001B[0;34m(self, possibly_batched_index)\u001B[0m\n\u001B[1;32m     49\u001B[0m         data \u001B[38;5;241m=\u001B[39m \u001B[38;5;28mself\u001B[39m\u001B[38;5;241m.\u001B[39mdataset\u001B[38;5;241m.\u001B[39m__getitems__(possibly_batched_index)\n\u001B[1;32m     50\u001B[0m     \u001B[38;5;28;01melse\u001B[39;00m:\n\u001B[0;32m---> 51\u001B[0m         data \u001B[38;5;241m=\u001B[39m [\u001B[38;5;28;43mself\u001B[39;49m\u001B[38;5;241;43m.\u001B[39;49m\u001B[43mdataset\u001B[49m\u001B[43m[\u001B[49m\u001B[43midx\u001B[49m\u001B[43m]\u001B[49m \u001B[38;5;28;01mfor\u001B[39;00m idx \u001B[38;5;129;01min\u001B[39;00m possibly_batched_index]\n\u001B[1;32m     52\u001B[0m \u001B[38;5;28;01melse\u001B[39;00m:\n\u001B[1;32m     53\u001B[0m     data \u001B[38;5;241m=\u001B[39m \u001B[38;5;28mself\u001B[39m\u001B[38;5;241m.\u001B[39mdataset[possibly_batched_index]\n",
      "Cell \u001B[0;32mIn[13], line 22\u001B[0m, in \u001B[0;36mImageDataset.__getitem__\u001B[0;34m(self, idx)\u001B[0m\n\u001B[1;32m     20\u001B[0m img_path \u001B[38;5;241m=\u001B[39m \u001B[38;5;28mself\u001B[39m\u001B[38;5;241m.\u001B[39mimage_paths[idx]\n\u001B[1;32m     21\u001B[0m image \u001B[38;5;241m=\u001B[39m Image\u001B[38;5;241m.\u001B[39mopen(img_path)\u001B[38;5;241m.\u001B[39mconvert(\u001B[38;5;124m'\u001B[39m\u001B[38;5;124mL\u001B[39m\u001B[38;5;124m'\u001B[39m)  \u001B[38;5;66;03m# convert image to grayscale\u001B[39;00m\n\u001B[0;32m---> 22\u001B[0m \u001B[38;5;28;01mif\u001B[39;00m \u001B[38;5;28;43mself\u001B[39;49m\u001B[38;5;241m.\u001B[39mtransform:\n\u001B[1;32m     23\u001B[0m     image \u001B[38;5;241m=\u001B[39m \u001B[38;5;28mself\u001B[39m\u001B[38;5;241m.\u001B[39mtransform(image)\n\u001B[1;32m     24\u001B[0m \u001B[38;5;28;01mreturn\u001B[39;00m image\n",
      "File \u001B[0;32m~/.local/share/JetBrains/Toolbox/apps/pycharm-professional/plugins/python/helpers/pydev/_pydevd_bundle/pydevd_frame.py:755\u001B[0m, in \u001B[0;36mPyDBFrame.trace_dispatch\u001B[0;34m(self, frame, event, arg)\u001B[0m\n\u001B[1;32m    753\u001B[0m \u001B[38;5;66;03m# if thread has a suspend flag, we suspend with a busy wait\u001B[39;00m\n\u001B[1;32m    754\u001B[0m \u001B[38;5;28;01mif\u001B[39;00m info\u001B[38;5;241m.\u001B[39mpydev_state \u001B[38;5;241m==\u001B[39m STATE_SUSPEND:\n\u001B[0;32m--> 755\u001B[0m     \u001B[38;5;28;43mself\u001B[39;49m\u001B[38;5;241;43m.\u001B[39;49m\u001B[43mdo_wait_suspend\u001B[49m\u001B[43m(\u001B[49m\u001B[43mthread\u001B[49m\u001B[43m,\u001B[49m\u001B[43m \u001B[49m\u001B[43mframe\u001B[49m\u001B[43m,\u001B[49m\u001B[43m \u001B[49m\u001B[43mevent\u001B[49m\u001B[43m,\u001B[49m\u001B[43m \u001B[49m\u001B[43marg\u001B[49m\u001B[43m)\u001B[49m\n\u001B[1;32m    756\u001B[0m     \u001B[38;5;66;03m# No need to reset frame.f_trace to keep the same trace function.\u001B[39;00m\n\u001B[1;32m    757\u001B[0m     \u001B[38;5;28;01mreturn\u001B[39;00m \u001B[38;5;28mself\u001B[39m\u001B[38;5;241m.\u001B[39mtrace_dispatch\n",
      "File \u001B[0;32m~/.local/share/JetBrains/Toolbox/apps/pycharm-professional/plugins/python/helpers/pydev/_pydevd_bundle/pydevd_frame.py:412\u001B[0m, in \u001B[0;36mPyDBFrame.do_wait_suspend\u001B[0;34m(self, *args, **kwargs)\u001B[0m\n\u001B[1;32m    411\u001B[0m \u001B[38;5;28;01mdef\u001B[39;00m \u001B[38;5;21mdo_wait_suspend\u001B[39m(\u001B[38;5;28mself\u001B[39m, \u001B[38;5;241m*\u001B[39margs, \u001B[38;5;241m*\u001B[39m\u001B[38;5;241m*\u001B[39mkwargs):\n\u001B[0;32m--> 412\u001B[0m     \u001B[38;5;28;43mself\u001B[39;49m\u001B[38;5;241;43m.\u001B[39;49m\u001B[43m_args\u001B[49m\u001B[43m[\u001B[49m\u001B[38;5;241;43m0\u001B[39;49m\u001B[43m]\u001B[49m\u001B[38;5;241;43m.\u001B[39;49m\u001B[43mdo_wait_suspend\u001B[49m\u001B[43m(\u001B[49m\u001B[38;5;241;43m*\u001B[39;49m\u001B[43margs\u001B[49m\u001B[43m,\u001B[49m\u001B[43m \u001B[49m\u001B[38;5;241;43m*\u001B[39;49m\u001B[38;5;241;43m*\u001B[39;49m\u001B[43mkwargs\u001B[49m\u001B[43m)\u001B[49m\n",
      "File \u001B[0;32m~/.local/share/JetBrains/Toolbox/apps/pycharm-professional/plugins/python/helpers/pydev/pydevd.py:1185\u001B[0m, in \u001B[0;36mPyDB.do_wait_suspend\u001B[0;34m(self, thread, frame, event, arg, send_suspend_message, is_unhandled_exception)\u001B[0m\n\u001B[1;32m   1182\u001B[0m         from_this_thread\u001B[38;5;241m.\u001B[39mappend(frame_id)\n\u001B[1;32m   1184\u001B[0m \u001B[38;5;28;01mwith\u001B[39;00m \u001B[38;5;28mself\u001B[39m\u001B[38;5;241m.\u001B[39m_threads_suspended_single_notification\u001B[38;5;241m.\u001B[39mnotify_thread_suspended(thread_id, stop_reason):\n\u001B[0;32m-> 1185\u001B[0m     \u001B[38;5;28;43mself\u001B[39;49m\u001B[38;5;241;43m.\u001B[39;49m\u001B[43m_do_wait_suspend\u001B[49m\u001B[43m(\u001B[49m\u001B[43mthread\u001B[49m\u001B[43m,\u001B[49m\u001B[43m \u001B[49m\u001B[43mframe\u001B[49m\u001B[43m,\u001B[49m\u001B[43m \u001B[49m\u001B[43mevent\u001B[49m\u001B[43m,\u001B[49m\u001B[43m \u001B[49m\u001B[43marg\u001B[49m\u001B[43m,\u001B[49m\u001B[43m \u001B[49m\u001B[43msuspend_type\u001B[49m\u001B[43m,\u001B[49m\u001B[43m \u001B[49m\u001B[43mfrom_this_thread\u001B[49m\u001B[43m)\u001B[49m\n",
      "File \u001B[0;32m~/.local/share/JetBrains/Toolbox/apps/pycharm-professional/plugins/python/helpers/pydev/pydevd.py:1200\u001B[0m, in \u001B[0;36mPyDB._do_wait_suspend\u001B[0;34m(self, thread, frame, event, arg, suspend_type, from_this_thread)\u001B[0m\n\u001B[1;32m   1197\u001B[0m             \u001B[38;5;28mself\u001B[39m\u001B[38;5;241m.\u001B[39m_call_mpl_hook()\n\u001B[1;32m   1199\u001B[0m         \u001B[38;5;28mself\u001B[39m\u001B[38;5;241m.\u001B[39mprocess_internal_commands()\n\u001B[0;32m-> 1200\u001B[0m         \u001B[43mtime\u001B[49m\u001B[38;5;241;43m.\u001B[39;49m\u001B[43msleep\u001B[49m\u001B[43m(\u001B[49m\u001B[38;5;241;43m0.01\u001B[39;49m\u001B[43m)\u001B[49m\n\u001B[1;32m   1202\u001B[0m \u001B[38;5;28mself\u001B[39m\u001B[38;5;241m.\u001B[39mcancel_async_evaluation(get_current_thread_id(thread), \u001B[38;5;28mstr\u001B[39m(\u001B[38;5;28mid\u001B[39m(frame)))\n\u001B[1;32m   1204\u001B[0m \u001B[38;5;66;03m# process any stepping instructions\u001B[39;00m\n",
      "\u001B[0;31mKeyboardInterrupt\u001B[0m: "
     ]
    }
   ],
   "execution_count": 13
  },
  {
   "cell_type": "code",
   "source": [
    "import matplotlib.pyplot as plt\n",
    "import cv2\n",
    "\n",
    "test_image = cv2.imread('dataset_drive/dataset/frame20.jpg')\n",
    "\n",
    "plt.subplot(2,1,1)\n",
    "plt.imshow(test_image)\n",
    "\n",
    "test_img_reshaped = torch.from_numpy(test_image[:,:,1]\n",
    "                     .reshape(96 * 54)\n",
    "                     .astype(np.float32))\n",
    "test_img_reshaped = test_img_reshaped.to(device)\n",
    "predicted = model(test_img_reshaped)\n",
    "\n",
    "predicted = predicted.cpu().detach()\n",
    "\n",
    "plt.subplot(2,1,2)\n",
    "plt.imshow(predicted.reshape(54,96), cmap=\"gray\")"
   ],
   "metadata": {
    "colab": {
     "base_uri": "https://localhost:8080/",
     "height": 451
    },
    "id": "Q5s7y9LAdoiM",
    "outputId": "0d58246d-4816-4639-e9dc-73ec98b236cc",
    "ExecuteTime": {
     "end_time": "2024-06-05T18:11:00.970570Z",
     "start_time": "2024-06-05T18:11:00.807544Z"
    }
   },
   "outputs": [
    {
     "data": {
      "text/plain": [
       "<matplotlib.image.AxesImage at 0x70205431f920>"
      ]
     },
     "execution_count": 12,
     "metadata": {},
     "output_type": "execute_result"
    },
    {
     "data": {
      "text/plain": [
       "<Figure size 640x480 with 2 Axes>"
      ],
      "image/png": "[encoded data removed]"
     },
     "metadata": {},
     "output_type": "display_data"
    }
   ],
   "execution_count": 12
  },
  {
   "cell_type": "code",
   "source": [
    "print(encoded_imgs[0])"
   ],
   "metadata": {
    "colab": {
     "base_uri": "https://localhost:8080/"
    },
    "id": "m8zmLicYZ9ZU",
    "outputId": "c34396d7-0385-4d86-98fb-d222f9f9f455"
   },
   "outputs": [],
   "execution_count": null
  },
  {
   "cell_type": "code",
   "source": [
    "import os\n",
    "import numpy as np\n",
    "from PIL import Image\n",
    "import torch\n",
    "from torch import nn, optim\n",
    "from torch.utils.data import Dataset, DataLoader\n",
    "import torchvision.transforms as transforms\n",
    "import cv2\n",
    "\n",
    "# Define and train the RNN\n",
    "class RNN(nn.Module):\n",
    "    def __init__(self, input_size, hidden_size, output_size, num_layers):\n",
    "        super(RNN, self).__init__()\n",
    "        self.rnn = nn.LSTM(input_size, hidden_size, num_layers, batch_first=True)\n",
    "        self.fc = nn.Linear(hidden_size, output_size)\n",
    "\n",
    "    def forward(self, x):\n",
    "        h_0 = torch.zeros(num_layers, x.size(0), hidden_size).to(x.device)\n",
    "        c_0 = torch.zeros(num_layers, x.size(0), hidden_size).to(x.device)\n",
    "        out, _ = self.rnn(x, (h_0, c_0))\n",
    "        out = self.fc(out[:, -1, :])\n",
    "        return out\n",
    "\n",
    "input_size = 128\n",
    "hidden_size = 256\n",
    "num_layers = 2\n",
    "output_size = 128\n",
    "seq_length = 10\n",
    "\n",
    "rnn = RNN(input_size, hidden_size, output_size, num_layers)\n",
    "criterion = nn.MSELoss()\n",
    "optimizer = optim.Adam(rnn.parameters(), lr=0.001)\n",
    "\n",
    "# Prepare the data for RNN\n",
    "sequences = []\n",
    "for i in range(len(encoded_imgs) - seq_length):\n",
    "    seq = encoded_imgs[i:i + seq_length]\n",
    "    sequences.append(seq)\n",
    "sequences = torch.stack(sequences)\n",
    "\n",
    "train_loader = DataLoader(sequences, batch_size=32, shuffle=True)\n",
    "\n",
    "# Train the RNN\n",
    "num_epochs = 3500\n",
    "for epoch in range(num_epochs):\n",
    "    for seq in train_loader:\n",
    "        inputs = seq[:, :-1, :]\n",
    "        targets = seq[:, -1, :]\n",
    "\n",
    "        outputs = rnn(inputs)\n",
    "        loss = criterion(outputs, targets)\n",
    "\n",
    "        optimizer.zero_grad()\n",
    "        loss.backward()\n",
    "        optimizer.step()\n",
    "\n",
    "    print(f'Epoch [{epoch+1}/{num_epochs}], Loss: {loss.item():.4f}')\n",
    "\n",
    "# Generate a sequence of vectors\n",
    "generated_vectors = []\n",
    "initial_vector = encoded_imgs[0].unsqueeze(0).unsqueeze(0)  # Initial input (batch_size=1, seq_length=1, input_size=128)\n",
    "generated_vectors.append(initial_vector)\n",
    "\n"
   ],
   "metadata": {
    "colab": {
     "base_uri": "https://localhost:8080/"
    },
    "id": "j6eG12DTXl_d",
    "outputId": "4e7435d6-f2d8-4a28-a947-781c6079c65b"
   },
   "outputs": [],
   "execution_count": null
  },
  {
   "cell_type": "code",
   "source": [
    "rnn.eval()\n",
    "with torch.no_grad():\n",
    "    for _ in range(100):  # Generate 100 vectors\n",
    "        next_vector = rnn(initial_vector)\n",
    "        generated_vectors.append(next_vector)\n",
    "        initial_vector = next_vector.unsqueeze(0)\n",
    "\n",
    "# # generated_vectors = torch.cat(generated_vectors).squeeze(1)\n",
    "# generated_vectors= nn.Embedding(generated_vectors,generated_vectors)\n",
    "# print(generated_vectors[0])"
   ],
   "metadata": {
    "id": "POGpt3vBFK5_"
   },
   "outputs": [],
   "execution_count": null
  },
  {
   "cell_type": "code",
   "source": [
    "# Decode the vectors to images\n",
    "decoded_images = []\n",
    "\n",
    "with torch.no_grad():\n",
    "    for vec in generated_vectors:\n",
    "        decoded_img = model.decoder(vec)\n",
    "        decoded_images.append(decoded_img.view(96, 54).cpu().numpy())\n",
    "# print(decoded_images)\n",
    "# Convert images to video\n",
    "fourcc = cv2.VideoWriter_fourcc(*'XVID')\n",
    "codec = cv2.VideoWriter_fourcc(*'MP4V')\n",
    "video = cv2.VideoWriter('generated_video.mp4', codec, 10, (96, 54), isColor=False)\n",
    "\n",
    "for img in decoded_images:\n",
    "    img = (img * 255).astype(np.uint8)\n",
    "    img = cv2.resize(img, (96, 54))\n",
    "    print(img)\n",
    "    video.write(img)\n",
    "\n",
    "video.release()"
   ],
   "metadata": {
    "id": "ae0BOnv3H5wW",
    "colab": {
     "base_uri": "https://localhost:8080/"
    },
    "outputId": "9db8359b-f082-42e6-d075-705b5594e6d1"
   },
   "outputs": [],
   "execution_count": null
  }
 ]
}
